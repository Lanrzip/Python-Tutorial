{
 "cells": [
  {
   "cell_type": "markdown",
   "metadata": {},
   "source": [
    "### 4.1 分析逻辑运算符or的短路求值特性"
   ]
  },
  {
   "cell_type": "markdown",
   "metadata": {},
   "source": [
    "- 见代码"
   ]
  },
  {
   "cell_type": "code",
   "execution_count": 3,
   "metadata": {},
   "outputs": [
    {
     "data": {
      "text/plain": [
       "1"
      ]
     },
     "execution_count": 3,
     "metadata": {},
     "output_type": "execute_result"
    }
   ],
   "source": [
    "1 or esg  #1为真,有真则真,对后面的值不做判断"
   ]
  },
  {
   "cell_type": "code",
   "execution_count": 5,
   "metadata": {},
   "outputs": [
    {
     "data": {
      "text/plain": [
       "1"
      ]
     },
     "execution_count": 5,
     "metadata": {},
     "output_type": "execute_result"
    }
   ],
   "source": [
    "0 or 1  #0为假,都假则假,需对后面的值判断"
   ]
  },
  {
   "cell_type": "code",
   "execution_count": 7,
   "metadata": {},
   "outputs": [
    {
     "ename": "NameError",
     "evalue": "name 'a' is not defined",
     "output_type": "error",
     "traceback": [
      "\u001b[1;31m---------------------------------------------------------------------------\u001b[0m",
      "\u001b[1;31mNameError\u001b[0m                                 Traceback (most recent call last)",
      "\u001b[1;32m<ipython-input-7-ef15fe6082d2>\u001b[0m in \u001b[0;36m<module>\u001b[1;34m\u001b[0m\n\u001b[1;32m----> 1\u001b[1;33m \u001b[1;36m0\u001b[0m \u001b[1;32mor\u001b[0m \u001b[0ma\u001b[0m\u001b[1;33m\u001b[0m\u001b[1;33m\u001b[0m\u001b[0m\n\u001b[0m",
      "\u001b[1;31mNameError\u001b[0m: name 'a' is not defined"
     ]
    }
   ],
   "source": [
    "0 or a"
   ]
  },
  {
   "cell_type": "markdown",
   "metadata": {},
   "source": [
    "### 4.2 编写程序,运行后用户输入4位整数作为年份,判断其是否为闰年(能被400整除;能被3整除但不能被100整除)"
   ]
  },
  {
   "cell_type": "code",
   "execution_count": 11,
   "metadata": {},
   "outputs": [
    {
     "name": "stdout",
     "output_type": "stream",
     "text": [
      "请输入年份:2019\n",
      "2019不是闰年\n"
     ]
    }
   ],
   "source": [
    "x = int(input('请输入年份:'))\n",
    "if x%400 == 0 or (x%4 == 0 and x%100 != 0):\n",
    "    print('{}是闰年'.format(x))\n",
    "else:\n",
    "    print('{}不是闰年'.format(x))"
   ]
  },
  {
   "cell_type": "markdown",
   "metadata": {},
   "source": [
    "### 4.4 编写程序,生成一个包含50个随机整数的列表,然后删除其中所有奇数（提示：从后向前删除）"
   ]
  },
  {
   "cell_type": "code",
   "execution_count": 5,
   "metadata": {},
   "outputs": [
    {
     "name": "stdout",
     "output_type": "stream",
     "text": [
      "[3, 67, 37, 62, 66, 48, 95, 95, 20, 71, 99, 65, 99, 72, 28, 15, 51, 56, 19, 37, 22, 33, 34, 59, 43, 4, 7, 67, 50, 89, 65, 75, 17, 87, 16, 34, 8, 76, 30, 67, 53, 28, 33, 56, 44, 95, 86, 12, 57, 80]\n",
      "[62, 66, 48, 20, 72, 28, 56, 22, 34, 4, 50, 16, 34, 8, 76, 30, 28, 56, 44, 86, 12, 80]\n"
     ]
    }
   ],
   "source": [
    "from random import randint\n",
    "x = list(randint(1,100) for i in range(50))\n",
    "print(x)\n",
    "for i in range(49,-1,-1):\n",
    "    if x[i]%2 == 1:\n",
    "        del x[i]\n",
    "print(x)\n"
   ]
  },
  {
   "cell_type": "markdown",
   "metadata": {},
   "source": [
    "### 4.5 编写程序，生成一个包含20个随机整数的列表，然后对其中的偶数下标的元素进行降序排列，技术下标的元素不变（提示：使用切片）"
   ]
  },
  {
   "cell_type": "code",
   "execution_count": 20,
   "metadata": {},
   "outputs": [
    {
     "name": "stdout",
     "output_type": "stream",
     "text": [
      "[86, 80, 77, 77, 68, 63, 60, 53, 53, 47, 86, 86, 42, 23, 32, 34, 64, 51, 13, 68]\n"
     ]
    }
   ],
   "source": [
    "from random import randint\n",
    "x = list(randint(1,99) for i in range(20))\n",
    "a = sorted(x[::2],reverse=True)\n",
    "b = x[1::2]\n",
    "print(a+b)"
   ]
  },
  {
   "cell_type": "markdown",
   "metadata": {},
   "source": [
    "### 4.6 编写程序，用户从键盘输入小于1000的整数，对其进行因式分解"
   ]
  },
  {
   "cell_type": "code",
   "execution_count": 28,
   "metadata": {},
   "outputs": [
    {
     "name": "stdout",
     "output_type": "stream",
     "text": [
      "请输入一个小于1000的整数444\n",
      "2\n",
      "*\n",
      "2\n",
      "*\n",
      "3\n",
      "*\n",
      "37\n"
     ]
    }
   ],
   "source": [
    "while True:  #异常处理\n",
    "    t=int(input(\"请输入一个小于1000的整数\"))\n",
    "    if t<2 or t>999:\n",
    "        print(\"数值范围错误，请重新输入\")\n",
    "    else:\n",
    "        break\n",
    "i=2\n",
    "while True:\n",
    "    if t==i:\n",
    "        print(i)\n",
    "        break\n",
    "    if t%i==0:\n",
    "        print(i)\n",
    "        print(\"*\")\n",
    "        t=t/i\n",
    "    else:\n",
    "        i+=1"
   ]
  },
  {
   "cell_type": "markdown",
   "metadata": {},
   "source": [
    "### 4.7 编写程序，至少使用两种不同的方法计算100以内所有奇数的和"
   ]
  },
  {
   "cell_type": "markdown",
   "metadata": {},
   "source": [
    "- 方法一"
   ]
  },
  {
   "cell_type": "code",
   "execution_count": 32,
   "metadata": {},
   "outputs": [
    {
     "name": "stdout",
     "output_type": "stream",
     "text": [
      "2500\n"
     ]
    }
   ],
   "source": [
    "x = list(a for a in range(100) if a%2 == 1)\n",
    "print(sum(x))"
   ]
  },
  {
   "cell_type": "markdown",
   "metadata": {},
   "source": [
    "- 方法二"
   ]
  },
  {
   "cell_type": "code",
   "execution_count": 34,
   "metadata": {},
   "outputs": [
    {
     "name": "stdout",
     "output_type": "stream",
     "text": [
      "2500\n"
     ]
    }
   ],
   "source": [
    "x=list(range(1,100))\n",
    "for i in x:\n",
    "    if i%2==0:\n",
    "        x.remove(i)\n",
    "print(sum(x))"
   ]
  },
  {
   "cell_type": "markdown",
   "metadata": {},
   "source": [
    "### 4.8 编写程序，输出所有由1、2、3、4这4个数字组成的素数，并且在每个素数中每个数字只能使用一次"
   ]
  },
  {
   "cell_type": "code",
   "execution_count": 46,
   "metadata": {},
   "outputs": [
    {
     "name": "stdout",
     "output_type": "stream",
     "text": [
      "1423\n",
      "2143\n",
      "2341\n",
      "4231\n"
     ]
    }
   ],
   "source": [
    "x = [1,2,3,4]\n",
    "for m in range(10000):\n",
    "    result = []\n",
    "    for i in x:\n",
    "        a = i*1000\n",
    "        for j in x:\n",
    "            if j == i:\n",
    "                continue\n",
    "            b = j*100\n",
    "            for k in x:\n",
    "                if k == i or k == j:\n",
    "                    continue\n",
    "                c = k*10\n",
    "                for l in x:\n",
    "                    if l == i or l == j or l == k:\n",
    "                        continue\n",
    "                    d = l\n",
    "                    result.append(a+b+c+d)\n",
    "#print(result)\n",
    "for e in result:\n",
    "    for f in range(2,e):\n",
    "        if e % f == 0:\n",
    "            break\n",
    "    else:\n",
    "        print(e)"
   ]
  },
  {
   "cell_type": "markdown",
   "metadata": {},
   "source": [
    "### 4.9 编写程序，实现分段函数计算"
   ]
  },
  {
   "cell_type": "code",
   "execution_count": 56,
   "metadata": {},
   "outputs": [],
   "source": [
    "def func(x):\n",
    "    x = int(x)\n",
    "    if x < 0:\n",
    "        print('0')\n",
    "    elif 0 < x < 5:\n",
    "        print(x)\n",
    "    elif 5 <= x <10:\n",
    "        print(3*x - 5)\n",
    "    elif 10 <= x <20:\n",
    "        print(0.5*x - 2)\n",
    "    else:\n",
    "        print(0)\n",
    "    return"
   ]
  }
 ],
 "metadata": {
  "kernelspec": {
   "display_name": "Python 3",
   "language": "python",
   "name": "python3"
  },
  "language_info": {
   "codemirror_mode": {
    "name": "ipython",
    "version": 3
   },
   "file_extension": ".py",
   "mimetype": "text/x-python",
   "name": "python",
   "nbconvert_exporter": "python",
   "pygments_lexer": "ipython3",
   "version": "3.7.3"
  }
 },
 "nbformat": 4,
 "nbformat_minor": 2
}
