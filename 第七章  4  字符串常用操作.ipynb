{
 "cells": [
  {
   "cell_type": "markdown",
   "metadata": {},
   "source": [
    "# 7.4 字符串常用操作"
   ]
  },
  {
   "cell_type": "markdown",
   "metadata": {},
   "source": [
    "- 字符串对象提供的设计字符串“修改”的方法都是返回修改后的新字符串，并不对原字符串做任何修改"
   ]
  },
  {
   "cell_type": "markdown",
   "metadata": {},
   "source": [
    "## 7.4.1 find()、rfind()、index()、rindex()、count()"
   ]
  },
  {
   "cell_type": "markdown",
   "metadata": {},
   "source": [
    "- find()：查找一个字符串在另一个字符串指定范围（默认是整个字符串）中首次出现的位置，如果不存在 则返回-1.\n",
    "- rfind()：最后一次出现的位置（其余同上）。"
   ]
  },
  {
   "cell_type": "code",
   "execution_count": 2,
   "metadata": {},
   "outputs": [
    {
     "name": "stdout",
     "output_type": "stream",
     "text": [
      "19\n",
      "-1\n",
      "19\n"
     ]
    }
   ],
   "source": [
    "s = 'apple,peach.banana,peach,pear'\n",
    "print(s.find('peach',7))  #从指定位置开始查找\n",
    "print(s.find('peach',7,20))\n",
    "print(s.rfind('peach'))"
   ]
  },
  {
   "cell_type": "markdown",
   "metadata": {},
   "source": [
    "- index()：返回一个字符串在另一个字符串指定范围中首次出现的位置，若不存在则抛出异常。\n",
    "- rindex()：最后一次出现的位置（其余同上）。"
   ]
  },
  {
   "cell_type": "code",
   "execution_count": 4,
   "metadata": {},
   "outputs": [
    {
     "name": "stdout",
     "output_type": "stream",
     "text": [
      "6\n"
     ]
    },
    {
     "ename": "ValueError",
     "evalue": "substring not found",
     "output_type": "error",
     "traceback": [
      "\u001b[1;31m---------------------------------------------------------------------------\u001b[0m",
      "\u001b[1;31mValueError\u001b[0m                                Traceback (most recent call last)",
      "\u001b[1;32m<ipython-input-4-31d2d28f4e52>\u001b[0m in \u001b[0;36m<module>\u001b[1;34m\u001b[0m\n\u001b[0;32m      1\u001b[0m \u001b[0mprint\u001b[0m\u001b[1;33m(\u001b[0m\u001b[0ms\u001b[0m\u001b[1;33m.\u001b[0m\u001b[0mindex\u001b[0m\u001b[1;33m(\u001b[0m\u001b[1;34m'pe'\u001b[0m\u001b[1;33m)\u001b[0m\u001b[1;33m)\u001b[0m\u001b[1;33m\u001b[0m\u001b[1;33m\u001b[0m\u001b[0m\n\u001b[1;32m----> 2\u001b[1;33m \u001b[0mprint\u001b[0m\u001b[1;33m(\u001b[0m\u001b[0ms\u001b[0m\u001b[1;33m.\u001b[0m\u001b[0mindex\u001b[0m\u001b[1;33m(\u001b[0m\u001b[1;34m'ppp'\u001b[0m\u001b[1;33m)\u001b[0m\u001b[1;33m)\u001b[0m\u001b[1;33m\u001b[0m\u001b[1;33m\u001b[0m\u001b[0m\n\u001b[0m",
      "\u001b[1;31mValueError\u001b[0m: substring not found"
     ]
    }
   ],
   "source": [
    "print(s.index('pe'))\n",
    "print(s.index('ppp'))"
   ]
  },
  {
   "cell_type": "markdown",
   "metadata": {},
   "source": [
    "- count()：返回一个字符串在另一个字符串中出现的次数，若不存在则返回0。"
   ]
  },
  {
   "cell_type": "code",
   "execution_count": 5,
   "metadata": {},
   "outputs": [
    {
     "name": "stdout",
     "output_type": "stream",
     "text": [
      "5\n",
      "0\n"
     ]
    }
   ],
   "source": [
    "print(s.count('p'))\n",
    "print(s.count('ppp'))"
   ]
  },
  {
   "cell_type": "markdown",
   "metadata": {},
   "source": [
    "## 7.4.2 split()、rsplit()"
   ]
  },
  {
   "cell_type": "markdown",
   "metadata": {},
   "source": [
    "- split()：从左端开始。\n",
    "- split()：从右端开始。"
   ]
  },
  {
   "cell_type": "markdown",
   "metadata": {},
   "source": [
    "- 语法：str.split(str=\"\",num=string.count(str))[n]\n",
    "- 参数说明：\n",
    "    - str：表示为分隔符，默认为空格，但是不能为空('')。若字符串中没有分隔符，则把整个字符串作为列表的一个元素。\n",
    "    - num：分割次数。默认为 -1, 即分隔所有。\n",
    "    - [n]：表示选取第n个分片。"
   ]
  },
  {
   "cell_type": "code",
   "execution_count": 15,
   "metadata": {},
   "outputs": [
    {
     "name": "stdout",
     "output_type": "stream",
     "text": [
      "['apple', 'peach.banana', 'pear']\n",
      "['apple', 'peach.banana', 'pear']\n"
     ]
    }
   ],
   "source": [
    "s = 'apple,peach.banana,pear'\n",
    "print(s.split(','))\n",
    "print(s.rsplit(','))"
   ]
  },
  {
   "cell_type": "markdown",
   "metadata": {},
   "source": [
    "- 对于split()和rsplit()方法，若不指定分隔符，则字符串中的任何空白符号（空格、换行符、制表符等）的连续出现都将被认为是分隔符，返回包含最终分隔结果的列表。"
   ]
  },
  {
   "cell_type": "code",
   "execution_count": 21,
   "metadata": {},
   "outputs": [
    {
     "data": {
      "text/plain": [
       "['hello', 'world', 'my', 'name', 'is', 'Xu']"
      ]
     },
     "execution_count": 21,
     "metadata": {},
     "output_type": "execute_result"
    }
   ],
   "source": [
    "s = '\\n\\nhello\\t\\t world \\n\\n\\n my name\\t is Xu'\n",
    "s.split()"
   ]
  },
  {
   "cell_type": "code",
   "execution_count": 30,
   "metadata": {},
   "outputs": [
    {
     "name": "stdout",
     "output_type": "stream",
     "text": [
      "['\\n\\nhello\\t\\t', 'world', '\\n\\n\\n my name\\t is Xu']\n",
      "['hello', 'world', 'my name\\t is Xu']\n",
      "['\\n\\nhello\\t\\t world \\n\\n\\n my name', 'is', 'Xu']\n"
     ]
    }
   ],
   "source": [
    "s = '\\n\\nhello\\t\\t world \\n\\n\\n my name\\t is Xu'\n",
    "print(s.split(' ',2))\n",
    "print(s.split(maxsplit = 2))\n",
    "print(s.rsplit(maxsplit = 2))"
   ]
  },
  {
   "cell_type": "markdown",
   "metadata": {},
   "source": [
    "## 7.4.3 join()"
   ]
  },
  {
   "cell_type": "markdown",
   "metadata": {},
   "source": [
    "- 将列表中多个字符串进行连接，并在相邻两个字符串之间插入指定字符，返回新字符串。"
   ]
  },
  {
   "cell_type": "code",
   "execution_count": 33,
   "metadata": {},
   "outputs": [
    {
     "name": "stdout",
     "output_type": "stream",
     "text": [
      "apple,peach,banana,pear\n",
      "applepeachbananapear\n"
     ]
    }
   ],
   "source": [
    "li = ['apple','peach','banana','pear']\n",
    "sep = ','\n",
    "print(sep.join(li))\n",
    "print(''.join(li))"
   ]
  },
  {
   "cell_type": "code",
   "execution_count": null,
   "metadata": {},
   "outputs": [],
   "source": []
  },
  {
   "cell_type": "markdown",
   "metadata": {},
   "source": [
    "## 7.4.4 lower()、upper()、capitalize()、title()、swapcase()"
   ]
  },
  {
   "cell_type": "markdown",
   "metadata": {},
   "source": [
    "- str.lower()：全部字符小写\n",
    "- str.upper()：全部字符大写\n",
    "- str.capitalize()：字符串首字母大写\n",
    "- str.title()：每个单词的首字母大写\n",
    "- str.swapcase()：大小写互换\n",
    "- **以上均生成新字符串，不对原字符串做任何修改**"
   ]
  },
  {
   "cell_type": "markdown",
   "metadata": {},
   "source": [
    "## 7.4.5 replace()"
   ]
  },
  {
   "cell_type": "markdown",
   "metadata": {},
   "source": [
    "- str.replace(old, new[, max])\n",
    "    - max：用来替换的次数\n",
    "        - （1）当不将max参数传入时，默认将所有old字符或者字符串替换为new字符或者字符串\n",
    "        - （2）当我们将max参数传入后，则将旧字符串替换为新字符串不超过max次，多余的则不进行替换\n",
    "- 返回一个新字符串"
   ]
  },
  {
   "cell_type": "markdown",
   "metadata": {},
   "source": [
    "## 7.4.6 strip()、rstrip()、lstrip()"
   ]
  },
  {
   "cell_type": "markdown",
   "metadata": {},
   "source": [
    "- str.strip([chars])\n",
    "    - chars：移除字符串**头尾**指定的字符。"
   ]
  },
  {
   "cell_type": "markdown",
   "metadata": {},
   "source": [
    "## 7.4.7 startswith()、endswith()"
   ]
  },
  {
   "cell_type": "markdown",
   "metadata": {},
   "source": [
    "- str.startswith(suffix[, start[, end]]) str[start:end]以suffix开始返回True，否则返回False\n",
    "- str.endswith(suffix[,start[,end]]) str[start:end]以suffix结尾返回True，否则返回False"
   ]
  },
  {
   "cell_type": "markdown",
   "metadata": {},
   "source": [
    "## 7.4.8"
   ]
  },
  {
   "cell_type": "markdown",
   "metadata": {},
   "source": [
    "- str.islower()：是否为小写字母\n",
    "- str.isupper()：是否为大写字母\n",
    "- str.isprintable() 当str所有字符都是可打印的，返回True，否则False\n",
    "- str.isdigit()：是否为数字字符\n",
    "- str.isnumeric()：是否为数字字符\n",
    "- str.isspace()：是否为空白字符\n",
    "- str.isalnum()是否为数字或字母\n",
    "- str.isalpha()：是否为字母"
   ]
  },
  {
   "cell_type": "markdown",
   "metadata": {},
   "source": [
    "## center()、ljust()、rjust()、zfill()"
   ]
  },
  {
   "cell_type": "code",
   "execution_count": 38,
   "metadata": {},
   "outputs": [
    {
     "name": "stdout",
     "output_type": "stream",
     "text": [
      "    Hello world!    \n",
      "====Hello world!====\n",
      "Hello world!========\n",
      "========Hello world!\n",
      "00abc\n",
      "abc\n"
     ]
    }
   ],
   "source": [
    "s = 'Hello world!'\n",
    "print(s.center(20))  #居中对齐，以空格进行填充\n",
    "print(s.center(20,'='))  #居中对齐，以字符=进行填充\n",
    "print(s.ljust(20,'='))  #左对齐\n",
    "print(s.rjust(20,'='))  #右对齐\n",
    "print('abc'.zfill(5))  #在左侧填充数字字符0\n",
    "print('abc'.zfill(2))  #指定宽度小于字符串长度时，返回字符串本身"
   ]
  }
 ],
 "metadata": {
  "kernelspec": {
   "display_name": "Python 3",
   "language": "python",
   "name": "python3"
  },
  "language_info": {
   "codemirror_mode": {
    "name": "ipython",
    "version": 3
   },
   "file_extension": ".py",
   "mimetype": "text/x-python",
   "name": "python",
   "nbconvert_exporter": "python",
   "pygments_lexer": "ipython3",
   "version": "3.7.4"
  }
 },
 "nbformat": 4,
 "nbformat_minor": 2
}
