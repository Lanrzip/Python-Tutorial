{
 "cells": [
  {
   "cell_type": "markdown",
   "metadata": {},
   "source": [
    "# 5.4 lambda表达式"
   ]
  },
  {
   "cell_type": "markdown",
   "metadata": {},
   "source": [
    "- 只可以包含一个表达式\n",
    "- 表达式中可以调用其他函数"
   ]
  },
  {
   "cell_type": "code",
   "execution_count": 1,
   "metadata": {},
   "outputs": [
    {
     "name": "stdout",
     "output_type": "stream",
     "text": [
      "6\n"
     ]
    }
   ],
   "source": [
    "f = lambda x,y,z:x+y+z\n",
    "print(f(1,2,3))"
   ]
  },
  {
   "cell_type": "code",
   "execution_count": 4,
   "metadata": {},
   "outputs": [
    {
     "name": "stdout",
     "output_type": "stream",
     "text": [
      "6\n",
      "11\n"
     ]
    }
   ],
   "source": [
    "g = lambda x,y=2,z=3:x+y+z  #支持默认值参数\n",
    "print(g(1))\n",
    "print(g(2,z=4,y=5))"
   ]
  },
  {
   "cell_type": "code",
   "execution_count": 5,
   "metadata": {},
   "outputs": [
    {
     "name": "stdout",
     "output_type": "stream",
     "text": [
      "4 8 16\n"
     ]
    }
   ],
   "source": [
    "L = [(lambda x:x**2),(lambda x:x**3),(lambda x:x**4)]\n",
    "print(L[0](2),L[1](2),L[2](2))"
   ]
  },
  {
   "cell_type": "code",
   "execution_count": 6,
   "metadata": {},
   "outputs": [
    {
     "name": "stdout",
     "output_type": "stream",
     "text": [
      "5 6 8\n"
     ]
    }
   ],
   "source": [
    "D = {'f1':(lambda:2+3),'f2':(lambda:2*3),'f3':(lambda:2**3)}  #无参数\n",
    "print(D['f1'](),D['f2'](),D['f3']())"
   ]
  },
  {
   "cell_type": "code",
   "execution_count": 14,
   "metadata": {},
   "outputs": [
    {
     "name": "stdout",
     "output_type": "stream",
     "text": [
      "6\n"
     ]
    }
   ],
   "source": [
    "a = [1,2]\n",
    "f = lambda x: len(str(x))\n",
    "print(f(a))"
   ]
  },
  {
   "cell_type": "code",
   "execution_count": 20,
   "metadata": {},
   "outputs": [
    {
     "name": "stdout",
     "output_type": "stream",
     "text": [
      "[17, 5, 19, 4, 13, 7, 8, 2, 9, 0, 6, 16, 10, 12, 11, 18, 1, 15, 3, 14]\n",
      "[0, 1, 2, 3, 4, 5, 6, 7, 8, 9, 10, 11, 12, 13, 14, 15, 16, 17, 18, 19]\n",
      "[0, 1, 2, 3, 4, 5, 6, 7, 8, 9, 10, 11, 12, 13, 14, 15, 16, 17, 18, 19]\n",
      "[10, 11, 12, 13, 14, 15, 16, 17, 18, 19, 0, 1, 2, 3, 4, 5, 6, 7, 8, 9]\n"
     ]
    }
   ],
   "source": [
    "from random import shuffle\n",
    "data = list(range(20))\n",
    "shuffle(data)\n",
    "print(data)\n",
    "data.sort(key = lambda x:x)\n",
    "print(data)\n",
    "data.sort(key = lambda x:len(str(x)))  #按转换成字符串以后的长度排序\n",
    "print(data)\n",
    "data.sort(key = lambda x:len(str(x)),reverse = True)  #降序\n",
    "print(data)"
   ]
  },
  {
   "cell_type": "code",
   "execution_count": 26,
   "metadata": {},
   "outputs": [
    {
     "name": "stdout",
     "output_type": "stream",
     "text": [
      "[[8, 8, 4, 6, 6, 10], [8, 3, 6, 9, 8, 3], [10, 3, 3, 8, 3, 4], [2, 1, 5, 7, 5, 2], [9, 10, 10, 2, 4, 6]]\n",
      "[[2, 1, 5, 7, 5, 2], [10, 3, 3, 8, 3, 4], [8, 3, 6, 9, 8, 3], [8, 8, 4, 6, 6, 10], [9, 10, 10, 2, 4, 6]]\n"
     ]
    }
   ],
   "source": [
    "import random\n",
    "x = [[random.randint(1,10) for j in range(6)] for i in range(5)]\n",
    "#使用列表推导式创建列表\n",
    "#包含5个子列表的列表\n",
    "#每个子列表中包含5个1到10之间的随机数\n",
    "print(x)\n",
    "y = sorted(x, key=lambda item: (item[1], item[4]))  #按子列表中第2个元素升序、第5个元素升序排序（若第2个元素相同）\n",
    "print(y)"
   ]
  }
 ],
 "metadata": {
  "kernelspec": {
   "display_name": "Python 3",
   "language": "python",
   "name": "python3"
  },
  "language_info": {
   "codemirror_mode": {
    "name": "ipython",
    "version": 3
   },
   "file_extension": ".py",
   "mimetype": "text/x-python",
   "name": "python",
   "nbconvert_exporter": "python",
   "pygments_lexer": "ipython3",
   "version": "3.7.4"
  }
 },
 "nbformat": 4,
 "nbformat_minor": 2
}
