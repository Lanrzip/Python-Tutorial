{
 "cells": [
  {
   "cell_type": "markdown",
   "metadata": {},
   "source": [
    "# 3.1 列表"
   ]
  },
  {
   "cell_type": "markdown",
   "metadata": {},
   "source": [
    "- 列表、元组、字符串等有序列以及range对象均支持双向索引\n",
    "- Python采用基于值的自动内存管理模式，变量并不直接存储值，而是存储值的引用或内存地址\n",
    "- 同理，Python列表中的元素也是值的引用\n",
    "- 尽量避免过多使用列表"
   ]
  },
  {
   "cell_type": "markdown",
   "metadata": {},
   "source": [
    "## 3.1.1 列表创建与删除"
   ]
  },
  {
   "cell_type": "markdown",
   "metadata": {},
   "source": [
    "- 字典转换为列表"
   ]
  },
  {
   "cell_type": "code",
   "execution_count": 7,
   "metadata": {},
   "outputs": [
    {
     "ename": "SyntaxError",
     "evalue": "unexpected EOF while parsing (<ipython-input-7-7fbf2c454f11>, line 2)",
     "output_type": "error",
     "traceback": [
      "\u001b[1;36m  File \u001b[1;32m\"<ipython-input-7-7fbf2c454f11>\"\u001b[1;36m, line \u001b[1;32m2\u001b[0m\n\u001b[1;33m    print(list({'a':1,'b':2,'c':3}.items())  #?????????????????????\u001b[0m\n\u001b[1;37m                                                                   ^\u001b[0m\n\u001b[1;31mSyntaxError\u001b[0m\u001b[1;31m:\u001b[0m unexpected EOF while parsing\n"
     ]
    }
   ],
   "source": [
    "print(list({'a':1,'b':2,'c':3}))\n",
    "print(list({'a':1,'b':2,'c':3}.items())  #?????????????????????"
   ]
  },
  {
   "cell_type": "code",
   "execution_count": 9,
   "metadata": {},
   "outputs": [
    {
     "ename": "NameError",
     "evalue": "name 'x' is not defined",
     "output_type": "error",
     "traceback": [
      "\u001b[1;31m---------------------------------------------------------------------------\u001b[0m",
      "\u001b[1;31mNameError\u001b[0m                                 Traceback (most recent call last)",
      "\u001b[1;32m<ipython-input-9-e84abb2c7240>\u001b[0m in \u001b[0;36m<module>\u001b[1;34m\u001b[0m\n\u001b[0;32m      1\u001b[0m \u001b[0mx\u001b[0m \u001b[1;33m=\u001b[0m \u001b[1;33m[\u001b[0m\u001b[1;36m1\u001b[0m\u001b[1;33m,\u001b[0m\u001b[1;36m2\u001b[0m\u001b[1;33m,\u001b[0m\u001b[1;36m3\u001b[0m\u001b[1;33m]\u001b[0m\u001b[1;33m\u001b[0m\u001b[1;33m\u001b[0m\u001b[0m\n\u001b[0;32m      2\u001b[0m \u001b[1;32mdel\u001b[0m \u001b[0mx\u001b[0m  \u001b[1;31m#del命令适用于所有类型的Python对象\u001b[0m\u001b[1;33m\u001b[0m\u001b[1;33m\u001b[0m\u001b[0m\n\u001b[1;32m----> 3\u001b[1;33m \u001b[0mprint\u001b[0m\u001b[1;33m(\u001b[0m\u001b[0mx\u001b[0m\u001b[1;33m)\u001b[0m\u001b[1;33m\u001b[0m\u001b[1;33m\u001b[0m\u001b[0m\n\u001b[0m",
      "\u001b[1;31mNameError\u001b[0m: name 'x' is not defined"
     ]
    }
   ],
   "source": [
    "x = [1,2,3]\n",
    "del x  #del命令适用于所有类型的Python对象\n",
    "print(x)"
   ]
  },
  {
   "cell_type": "markdown",
   "metadata": {},
   "source": [
    "## 3.1.2 列表元素访问"
   ]
  },
  {
   "cell_type": "markdown",
   "metadata": {},
   "source": [
    "- 0为第一个元素，-1为最后一个元素"
   ]
  },
  {
   "cell_type": "markdown",
   "metadata": {},
   "source": [
    "## 3.1.3 列表常用方法"
   ]
  },
  {
   "cell_type": "markdown",
   "metadata": {},
   "source": [
    "- append()、insert()、extend()  添加功能\n",
    "    - append() ：在尾部追加一个元素\n",
    "    - insert() ：在任意指定位置插入一个元素\n",
    "    - entend() ：将另一列表中所有元素追加至当前列表尾部\n",
    "    - 以上三种操作都属于原地操作，不影响列表对象在内存中的起始地址"
   ]
  },
  {
   "cell_type": "code",
   "execution_count": 11,
   "metadata": {},
   "outputs": [
    {
     "name": "stdout",
     "output_type": "stream",
     "text": [
      "2911215587272\n",
      "[0, 1, 2, 3, 3, 5, 6, 7]\n",
      "2911215587272\n"
     ]
    }
   ],
   "source": [
    "x = [1,2,3]\n",
    "print(id(x))\n",
    "x.append(3)\n",
    "x.insert(0,0)\n",
    "x.extend([5,6,7])\n",
    "print(x)\n",
    "print(id(x))  #列表在内存中的地址不变"
   ]
  },
  {
   "cell_type": "markdown",
   "metadata": {},
   "source": [
    " - pop()、remove()、clear()  删除功能\n",
    "    - pop() ：用于删除**并返回**指定位置（默认是最后一个）上的元素，若指定的位置不是合法的索引则抛出异常\n",
    "    - remove() ：用于删除列表中第一个值与指定值相等的元素，若列表中不存在该元素则抛出异常\n",
    "    - clear() ：用于清空列表中所有元素  **与del区别**\n",
    "    - 以上三种同为原地操作"
   ]
  },
  {
   "cell_type": "code",
   "execution_count": 13,
   "metadata": {},
   "outputs": [
    {
     "name": "stdout",
     "output_type": "stream",
     "text": [
      "[1, 3, 4, 5]\n",
      "[1, 3, 4]\n",
      "[]\n"
     ]
    }
   ],
   "source": [
    "x = [1,2,3,4,5]\n",
    "x.remove(2)\n",
    "print(x)\n",
    "del x[3]\n",
    "print(x)\n",
    "x.clear()\n",
    "print(x)"
   ]
  },
  {
   "cell_type": "markdown",
   "metadata": {},
   "source": [
    "- count()、index()\n",
    "    - count() ：用于返回列表中指定元素出现的次数\n",
    "    - index() ：用于返回指定元素在列表中**首次出现**的位置，若元素不在列表中则抛出异常"
   ]
  },
  {
   "cell_type": "code",
   "execution_count": 15,
   "metadata": {},
   "outputs": [
    {
     "name": "stdout",
     "output_type": "stream",
     "text": [
      "3\n",
      "1\n"
     ]
    },
    {
     "ename": "ValueError",
     "evalue": "5 is not in list",
     "output_type": "error",
     "traceback": [
      "\u001b[1;31m---------------------------------------------------------------------------\u001b[0m",
      "\u001b[1;31mValueError\u001b[0m                                Traceback (most recent call last)",
      "\u001b[1;32m<ipython-input-15-c9eb6993be8e>\u001b[0m in \u001b[0;36m<module>\u001b[1;34m\u001b[0m\n\u001b[0;32m      2\u001b[0m \u001b[0mprint\u001b[0m\u001b[1;33m(\u001b[0m\u001b[0mx\u001b[0m\u001b[1;33m.\u001b[0m\u001b[0mcount\u001b[0m\u001b[1;33m(\u001b[0m\u001b[1;36m3\u001b[0m\u001b[1;33m)\u001b[0m\u001b[1;33m)\u001b[0m\u001b[1;33m\u001b[0m\u001b[1;33m\u001b[0m\u001b[0m\n\u001b[0;32m      3\u001b[0m \u001b[0mprint\u001b[0m\u001b[1;33m(\u001b[0m\u001b[0mx\u001b[0m\u001b[1;33m.\u001b[0m\u001b[0mindex\u001b[0m\u001b[1;33m(\u001b[0m\u001b[1;36m2\u001b[0m\u001b[1;33m)\u001b[0m\u001b[1;33m)\u001b[0m\u001b[1;33m\u001b[0m\u001b[1;33m\u001b[0m\u001b[0m\n\u001b[1;32m----> 4\u001b[1;33m \u001b[0mprint\u001b[0m\u001b[1;33m(\u001b[0m\u001b[0mx\u001b[0m\u001b[1;33m.\u001b[0m\u001b[0mindex\u001b[0m\u001b[1;33m(\u001b[0m\u001b[1;36m5\u001b[0m\u001b[1;33m)\u001b[0m\u001b[1;33m)\u001b[0m  \u001b[1;31m#不存在 异常\u001b[0m\u001b[1;33m\u001b[0m\u001b[1;33m\u001b[0m\u001b[0m\n\u001b[0m",
      "\u001b[1;31mValueError\u001b[0m: 5 is not in list"
     ]
    }
   ],
   "source": [
    "x = [1,2,2,3,3,3,4,4,4,4]\n",
    "print(x.count(3))\n",
    "print(x.index(2))\n",
    "print(x.index(5))  #不存在 异常"
   ]
  },
  {
   "cell_type": "markdown",
   "metadata": {},
   "source": [
    "- 下面的代码使用异常处理结构保证用户输入的是三位数，然后使用关键字in来测试用户输入的数字是否在列表中，若果存在则输出其索引，否则提示不存在"
   ]
  },
  {
   "cell_type": "code",
   "execution_count": null,
   "metadata": {},
   "outputs": [],
   "source": [
    "from random import sample\n",
    "lst = sample(range(100,1000),100)\n",
    "while True:\n",
    "    x = input('请输入一个三位数：')\n",
    "    try:\n",
    "        assert len(x) == 3,'长度必须为3'\n",
    "        x = int(x)\n",
    "        break\n",
    "    except:\n",
    "        pass\n",
    "if x in lst:\n",
    "    print('元素{0}在列表中的索引为：{1}'.format(x,lst.index(x)))\n",
    "else:\n",
    "    print('列表中不存在该元素。')"
   ]
  },
  {
   "cell_type": "markdown",
   "metadata": {},
   "source": [
    "- sort()、reverse()\n",
    "    - sort() ：按照指定的规则对所有元素进行排序，默认规则为升序False\n",
    "    - reverse() ：用于将列表所有元素逆序或翻转\n",
    "    - 两者均为原地操作\n",
    "- sorted()、reversed()\n",
    "    - 返回新列表"
   ]
  },
  {
   "cell_type": "markdown",
   "metadata": {},
   "source": [
    "- copy()\n",
    "    - 返回列表的浅复制\n",
    "    - 详情见下"
   ]
  },
  {
   "cell_type": "code",
   "execution_count": 36,
   "metadata": {},
   "outputs": [
    {
     "name": "stdout",
     "output_type": "stream",
     "text": [
      "[1, 2, [3, 4, 5]]\n",
      "[7, 2, [3, 4, 5]]\n",
      "[1, 2, [3, 4, 5]]\n",
      "[7, 2, [3, 4, 5, 6]]\n",
      "[1, 2, [3, 4, 5, 6]]\n"
     ]
    }
   ],
   "source": [
    "x = [1,2,[3,4,5]]\n",
    "y = x.copy()\n",
    "print(y)\n",
    "y[0] = 7  #改变y中第一个元素，x不受影响\n",
    "print(y)\n",
    "print(x)\n",
    "y[2].append(6)  #此过程会改变x中的元素\n",
    "print(y)\n",
    "print(x)"
   ]
  },
  {
   "cell_type": "markdown",
   "metadata": {},
   "source": [
    "- 标准库copy中的deepcopy()函数实现深复制\n",
    "- 深复制，是指对原列表中的元素进行递归，把所有的值都复制到新列表中，对嵌套的子列表不再是复制引用"
   ]
  },
  {
   "cell_type": "code",
   "execution_count": 13,
   "metadata": {},
   "outputs": [
    {
     "name": "stdout",
     "output_type": "stream",
     "text": [
      "[1, 2, [3, 4, 5]]\n",
      "[1, 2, [3, 4, 5, 6]]\n",
      "[1, 2, [3, 4, 5]]\n"
     ]
    }
   ],
   "source": [
    "from copy import deepcopy\n",
    "x = [1,2,[3,4,5]]\n",
    "y = deepcopy(x)\n",
    "print(y)\n",
    "y[2].append(6)  #深拷贝，对x不产生影响\n",
    "print(y)\n",
    "print(x)"
   ]
  },
  {
   "cell_type": "markdown",
   "metadata": {},
   "source": [
    "- 然而，如果使用赋值操作，则对其中一个做的任何修改都会影响另一个变量"
   ]
  },
  {
   "cell_type": "code",
   "execution_count": 17,
   "metadata": {},
   "outputs": [
    {
     "name": "stdout",
     "output_type": "stream",
     "text": [
      "[6, 2, [3, 4, 5]]\n",
      "[6, 2, [3, 4, 5]]\n"
     ]
    }
   ],
   "source": [
    "x = [1,2,[3,4]]\n",
    "y = x\n",
    "y[0] = 6\n",
    "y[2].append(5)\n",
    "print(y)\n",
    "print(x)"
   ]
  },
  {
   "cell_type": "markdown",
   "metadata": {},
   "source": [
    "## 3.1.4 列表对象支持的运算符"
   ]
  },
  {
   "cell_type": "markdown",
   "metadata": {},
   "source": [
    "- 加法运算符 ：非原地操作 返回新列表 效率低\n",
    "- 复合赋值运算符+= ：原地操作 与append()一样 高效"
   ]
  },
  {
   "cell_type": "code",
   "execution_count": 2,
   "metadata": {},
   "outputs": [
    {
     "name": "stdout",
     "output_type": "stream",
     "text": [
      "1151602854088\n",
      "[1, 2, 3, 4]\n",
      "1151603561160\n",
      "[1, 2, 3, 4, 5]\n",
      "1151603561160\n"
     ]
    }
   ],
   "source": [
    "x = [1,2,3]\n",
    "print(id(x))\n",
    "x = x + [4]\n",
    "print(x)\n",
    "print(id(x))\n",
    "x += [5]\n",
    "print(x)\n",
    "print(id(x))"
   ]
  },
  {
   "cell_type": "markdown",
   "metadata": {},
   "source": [
    "- 乘法运算符 ：用于列表和整数相乘，表示序列重复 返回新列表\n",
    "- 复合赋值运算符*= ：原地操作"
   ]
  },
  {
   "cell_type": "markdown",
   "metadata": {},
   "source": [
    "## 3.1.5 内置函数对列表的操作（详见p51）"
   ]
  },
  {
   "cell_type": "markdown",
   "metadata": {},
   "source": [
    "- all()函数用来测试列表中是否所有元素都等价于True\n",
    "- any()函数用来测试列表中是否有等价于True的元素"
   ]
  },
  {
   "cell_type": "code",
   "execution_count": 6,
   "metadata": {},
   "outputs": [
    {
     "name": "stdout",
     "output_type": "stream",
     "text": [
      "[1, 2, 2, 0, 4, 1, 3, 3, 5, 2]\n",
      "False\n",
      "True\n"
     ]
    }
   ],
   "source": [
    "import random\n",
    "x = list(random.randint(0,5) for i in range(10))\n",
    "print(x)\n",
    "print(all(x))\n",
    "print(any(x))"
   ]
  },
  {
   "cell_type": "markdown",
   "metadata": {},
   "source": [
    "## 3.1.6 列表推导式语法与应用案例"
   ]
  },
  {
   "cell_type": "markdown",
   "metadata": {},
   "source": [
    "- 语法形式：\n",
    "    - [expression for expr1 in sequence1 if condition1\n",
    "    - expression for expr2 in sequence1 if condition2\n",
    "    - ...\n",
    "    - expression for exprN in sequence1 if conditionN]"
   ]
  },
  {
   "cell_type": "markdown",
   "metadata": {},
   "source": [
    "- 公比为2的等比数列的前64项和"
   ]
  },
  {
   "cell_type": "code",
   "execution_count": 16,
   "metadata": {},
   "outputs": [
    {
     "name": "stdout",
     "output_type": "stream",
     "text": [
      "18446744073709551615\n"
     ]
    }
   ],
   "source": [
    "print(sum([2**i for i in range(64)]))"
   ]
  },
  {
   "cell_type": "markdown",
   "metadata": {},
   "source": [
    "- 嵌套列表的平铺"
   ]
  },
  {
   "cell_type": "code",
   "execution_count": 17,
   "metadata": {},
   "outputs": [
    {
     "name": "stdout",
     "output_type": "stream",
     "text": [
      "[1, 2, 3, 4, 5, 6, 7, 8, 9]\n"
     ]
    }
   ],
   "source": [
    "vet = [[1,2,3],[4,5,6],[7,8,9]]\n",
    "print([num for elem in vet for num in elem])"
   ]
  },
  {
   "cell_type": "markdown",
   "metadata": {},
   "source": [
    "- 过滤不符合条件的元素"
   ]
  },
  {
   "cell_type": "code",
   "execution_count": 22,
   "metadata": {},
   "outputs": [
    {
     "name": "stdout",
     "output_type": "stream",
     "text": [
      "[5, -3, 10, 10, -2, 0, -3, -1, -2, -7]\n",
      "[5, 10, 10]\n"
     ]
    }
   ],
   "source": [
    "import random\n",
    "alist = [random.randint(-10,10) for i in range(10)]  #选择符合条件的元素组成新的列表\n",
    "print(alist)\n",
    "print(list(a for a in alist if a > 3))"
   ]
  },
  {
   "cell_type": "code",
   "execution_count": 32,
   "metadata": {},
   "outputs": [
    {
     "name": "stdout",
     "output_type": "stream",
     "text": [
      "[10, 8, 7, 8, 1, 6, 7, 5, 2, 7, 10, 8, 5, 4, 10, 2, 9, 7, 9, 4]\n",
      "10\n",
      "[0, 10, 14]\n"
     ]
    }
   ],
   "source": [
    "from random import randint\n",
    "x = [randint(1,10) for i in range(20)]  #20个介于[1,10]的整数\n",
    "print(x)\n",
    "m = max(x)\n",
    "print(m)\n",
    "blist = [index for index,value in enumerate(x) if value == m]  #最大整数的所有出现的位置\n",
    "print(blist)"
   ]
  },
  {
   "cell_type": "markdown",
   "metadata": {},
   "source": [
    "- 同时遍历多个列表或可迭代对象"
   ]
  },
  {
   "cell_type": "code",
   "execution_count": 33,
   "metadata": {},
   "outputs": [
    {
     "data": {
      "text/plain": [
       "[(1, 3), (1, 4), (2, 3), (2, 1), (2, 4), (3, 1), (3, 4)]"
      ]
     },
     "execution_count": 33,
     "metadata": {},
     "output_type": "execute_result"
    }
   ],
   "source": [
    "[(x,y) for x in [1,2,3] for y in [3,1,4] if x != y]"
   ]
  },
  {
   "cell_type": "code",
   "execution_count": 34,
   "metadata": {},
   "outputs": [
    {
     "data": {
      "text/plain": [
       "[(1, 3), (1, 4)]"
      ]
     },
     "execution_count": 34,
     "metadata": {},
     "output_type": "execute_result"
    }
   ],
   "source": [
    "[(x,y) for x in [1,2,3] if x == 1 for y in [3,1,4] if y != x]"
   ]
  },
  {
   "cell_type": "code",
   "execution_count": 37,
   "metadata": {},
   "outputs": [
    {
     "data": {
      "text/plain": [
       "[5, 7, 9]"
      ]
     },
     "execution_count": 37,
     "metadata": {},
     "output_type": "execute_result"
    }
   ],
   "source": [
    "l1 = [1,2,3]\n",
    "l2 = [4,5,6]\n",
    "[l1[i] + l2[i] for i in range(len(l1))]  #相同位置的元素相加"
   ]
  },
  {
   "cell_type": "markdown",
   "metadata": {},
   "source": [
    "- 矩阵转置"
   ]
  },
  {
   "cell_type": "code",
   "execution_count": 42,
   "metadata": {},
   "outputs": [
    {
     "name": "stdout",
     "output_type": "stream",
     "text": [
      "[[1, 5, 9], [2, 6, 10], [3, 7, 11], [4, 8, 12]]\n"
     ]
    }
   ],
   "source": [
    "a = [[1,2,3,4],[5,6,7,8],[9,10,11,12]]\n",
    "b = [[ele[i] for ele in a] for i in range(4)]\n",
    "print(b)"
   ]
  },
  {
   "cell_type": "code",
   "execution_count": 44,
   "metadata": {},
   "outputs": [
    {
     "data": {
      "text/plain": [
       "[[1, 5, 9], [2, 6, 10], [3, 7, 11], [4, 8, 12]]"
      ]
     },
     "execution_count": 44,
     "metadata": {},
     "output_type": "execute_result"
    }
   ],
   "source": [
    "list(map(list,zip(*a)))"
   ]
  },
  {
   "cell_type": "markdown",
   "metadata": {},
   "source": [
    "## 3.1.7 切片操作  （不会因为下标越界而抛出异常）"
   ]
  },
  {
   "cell_type": "markdown",
   "metadata": {},
   "source": [
    "- 使用切片获取列表的部分元素"
   ]
  },
  {
   "cell_type": "code",
   "execution_count": 12,
   "metadata": {},
   "outputs": [
    {
     "name": "stdout",
     "output_type": "stream",
     "text": [
      "[3, 4, 5, 6, 7, 9, 11, 13, 15, 17]\n",
      "[3, 4, 5, 6, 7, 9, 11, 13, 15, 17]\n",
      "[]\n",
      "[17, 15, 13, 11]\n"
     ]
    }
   ],
   "source": [
    "alist = [3,4,5,6,7,9,11,13,15,17]\n",
    "print(alist[::])  #[start:end:step]  默认值分别为0、列表长度、1\n",
    "print(alist[0:100])  #切片结束位置大于列表长度时，从列表尾部截断\n",
    "print(alist[100:])  #切片开始位置大于列表长度时，返回空列表\n",
    "print(alist[100:-5:-1])"
   ]
  },
  {
   "cell_type": "markdown",
   "metadata": {},
   "source": [
    "- 使用切片为列表增加元素（原地操作）"
   ]
  },
  {
   "cell_type": "code",
   "execution_count": 14,
   "metadata": {},
   "outputs": [
    {
     "data": {
      "text/plain": [
       "[1, 2, 3, 4, 5, 7, 9]"
      ]
     },
     "execution_count": 14,
     "metadata": {},
     "output_type": "execute_result"
    }
   ],
   "source": [
    "alist = [3,5,7]\n",
    "alist[len(alist):] = [9]  #在列表末尾\n",
    "alist[:0] = [1,2]  #在列表头部\n",
    "alist[3:3] = [4]  #在列表中间\n",
    "alist"
   ]
  },
  {
   "cell_type": "markdown",
   "metadata": {},
   "source": [
    "- 使用切片替换和修改列表中的元素"
   ]
  },
  {
   "cell_type": "code",
   "execution_count": 29,
   "metadata": {},
   "outputs": [
    {
     "name": "stdout",
     "output_type": "stream",
     "text": [
      "[1, 2, 3, 9]\n",
      "[1, 2, 3, 4, 5, 6]\n",
      "[0, 2, 0, 4, 0, 6]\n",
      "['a', 2, 'b', 4, 'c', 6]\n"
     ]
    },
    {
     "ename": "ValueError",
     "evalue": "attempt to assign sequence of size 1 to extended slice of size 3",
     "output_type": "error",
     "traceback": [
      "\u001b[1;31m---------------------------------------------------------------------------\u001b[0m",
      "\u001b[1;31mValueError\u001b[0m                                Traceback (most recent call last)",
      "\u001b[1;32m<ipython-input-29-7ebb8c00bd6f>\u001b[0m in \u001b[0;36m<module>\u001b[1;34m\u001b[0m\n\u001b[0;32m      8\u001b[0m \u001b[0malist\u001b[0m\u001b[1;33m[\u001b[0m\u001b[1;33m:\u001b[0m\u001b[1;33m:\u001b[0m\u001b[1;36m2\u001b[0m\u001b[1;33m]\u001b[0m \u001b[1;33m=\u001b[0m \u001b[1;33m[\u001b[0m\u001b[1;34m'a'\u001b[0m\u001b[1;33m,\u001b[0m\u001b[1;34m'b'\u001b[0m\u001b[1;33m,\u001b[0m\u001b[1;34m'c'\u001b[0m\u001b[1;33m]\u001b[0m  \u001b[1;31m#隔一个修改一个\u001b[0m\u001b[1;33m\u001b[0m\u001b[1;33m\u001b[0m\u001b[0m\n\u001b[0;32m      9\u001b[0m \u001b[0mprint\u001b[0m\u001b[1;33m(\u001b[0m\u001b[0malist\u001b[0m\u001b[1;33m)\u001b[0m\u001b[1;33m\u001b[0m\u001b[1;33m\u001b[0m\u001b[0m\n\u001b[1;32m---> 10\u001b[1;33m \u001b[0malist\u001b[0m\u001b[1;33m[\u001b[0m\u001b[1;33m:\u001b[0m\u001b[1;33m:\u001b[0m\u001b[1;36m2\u001b[0m\u001b[1;33m]\u001b[0m \u001b[1;33m=\u001b[0m \u001b[1;33m[\u001b[0m\u001b[1;36m1\u001b[0m\u001b[1;33m]\u001b[0m  \u001b[1;31m#切片不连续时等号两边列表的长度必须相等\u001b[0m\u001b[1;33m\u001b[0m\u001b[1;33m\u001b[0m\u001b[0m\n\u001b[0m",
      "\u001b[1;31mValueError\u001b[0m: attempt to assign sequence of size 1 to extended slice of size 3"
     ]
    }
   ],
   "source": [
    "alist = [3,5,7,9]\n",
    "alist[:3] = [1,2,3]  #替换列表元素，等号两边的列表长度相等(可不相等)\n",
    "print(alist)\n",
    "alist[3:] = [4,5,6]  #切片连续，等号两边的长度可以不相等\n",
    "print(alist)\n",
    "alist[::2] = [0]*3  #隔一个修改一个\n",
    "print(alist)\n",
    "alist[::2] = ['a','b','c']  #隔一个修改一个\n",
    "print(alist)\n",
    "alist[::2] = [1]  #切片不连续时等号两边列表的长度必须相等"
   ]
  },
  {
   "cell_type": "markdown",
   "metadata": {},
   "source": [
    "- 使用切片删除列表中的元素"
   ]
  },
  {
   "cell_type": "code",
   "execution_count": 30,
   "metadata": {},
   "outputs": [
    {
     "data": {
      "text/plain": [
       "[9]"
      ]
     },
     "execution_count": 30,
     "metadata": {},
     "output_type": "execute_result"
    }
   ],
   "source": [
    "alist = [3,5,7,9]\n",
    "alist[:3] = []  #删除列表中前三个元素\n",
    "alist"
   ]
  },
  {
   "cell_type": "markdown",
   "metadata": {},
   "source": [
    "- 使用del命令与切片结合来删除"
   ]
  },
  {
   "cell_type": "code",
   "execution_count": 32,
   "metadata": {},
   "outputs": [
    {
     "data": {
      "text/plain": [
       "[5, 9]"
      ]
     },
     "execution_count": 32,
     "metadata": {},
     "output_type": "execute_result"
    }
   ],
   "source": [
    "alist = [3,5,7,9,11]\n",
    "del alist[::2]  #切片元素可不连续\n",
    "alist"
   ]
  },
  {
   "cell_type": "markdown",
   "metadata": {},
   "source": [
    "- 切片得到的是列表的浅复制（详见p59）"
   ]
  }
 ],
 "metadata": {
  "kernelspec": {
   "display_name": "Python 3",
   "language": "python",
   "name": "python3"
  },
  "language_info": {
   "codemirror_mode": {
    "name": "ipython",
    "version": 3
   },
   "file_extension": ".py",
   "mimetype": "text/x-python",
   "name": "python",
   "nbconvert_exporter": "python",
   "pygments_lexer": "ipython3",
   "version": "3.7.4"
  }
 },
 "nbformat": 4,
 "nbformat_minor": 2
}
