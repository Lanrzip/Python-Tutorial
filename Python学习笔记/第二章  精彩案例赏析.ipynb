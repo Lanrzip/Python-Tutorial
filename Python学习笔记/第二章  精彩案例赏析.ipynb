{
 "cells": [
  {
   "cell_type": "markdown",
   "metadata": {},
   "source": [
    "### **示例 2-1**  用户输入一个三位自然数，计算并输出其百位、十位和个位上的数字"
   ]
  },
  {
   "cell_type": "markdown",
   "metadata": {},
   "source": [
    "- 解法一："
   ]
  },
  {
   "cell_type": "code",
   "execution_count": null,
   "metadata": {},
   "outputs": [],
   "source": [
    "x = input(\"请输入一个三位自然数:\")\n",
    "x = int(x)\n",
    "a = x //100\n",
    "b = x //10 % 10\n",
    "c = x % 10\n",
    "print(a,b,c)    "
   ]
  },
  {
   "cell_type": "markdown",
   "metadata": {},
   "source": [
    "- 解法二:"
   ]
  },
  {
   "cell_type": "code",
   "execution_count": null,
   "metadata": {},
   "outputs": [],
   "source": [
    "x = input(\"请输入一个三位自然数:\")\n",
    "x = int(x)\n",
    "a,b = divmod(x,100)\n",
    "b,c = divmod(b,10)\n",
    "print(a,b,c)"
   ]
  },
  {
   "cell_type": "markdown",
   "metadata": {},
   "source": [
    "- 解法三:"
   ]
  },
  {
   "cell_type": "code",
   "execution_count": null,
   "metadata": {},
   "outputs": [],
   "source": [
    "x = input(\"请输入一个三位自然数:\")\n",
    "a,b,c = map(int,x)\n",
    "print(a,b,c)"
   ]
  },
  {
   "cell_type": "markdown",
   "metadata": {},
   "source": [
    "### **示例 2-2**  已知三角形的两边长及其夹角，求第三边长"
   ]
  },
  {
   "cell_type": "code",
   "execution_count": 4,
   "metadata": {},
   "outputs": [
    {
     "name": "stdout",
     "output_type": "stream",
     "text": [
      "输入两边长其夹角（度）：1 2 60\n",
      "c= 1.7320508075688772\n"
     ]
    }
   ],
   "source": [
    "import math\n",
    "x = input('输入两边长其夹角（度）：')\n",
    "a,b,theta = map(float,x.split())\n",
    "c = math.sqrt(a**2 + b**2 - 2*a*b*math.cos(theta*math.pi/180))\n",
    "print('c=',c)"
   ]
  },
  {
   "cell_type": "markdown",
   "metadata": {},
   "source": [
    "### **示例 2-3** 任意输入3个英文单词，按字典顺序输出"
   ]
  },
  {
   "cell_type": "code",
   "execution_count": null,
   "metadata": {},
   "outputs": [],
   "source": [
    "s = input('x,y,z=')\n",
    "x,y,z = sorted(s.split(','))\n",
    "print(x,y,z)"
   ]
  }
 ],
 "metadata": {
  "kernelspec": {
   "display_name": "Python 3",
   "language": "python",
   "name": "python3"
  },
  "language_info": {
   "codemirror_mode": {
    "name": "ipython",
    "version": 3
   },
   "file_extension": ".py",
   "mimetype": "text/x-python",
   "name": "python",
   "nbconvert_exporter": "python",
   "pygments_lexer": "ipython3",
   "version": "3.7.3"
  }
 },
 "nbformat": 4,
 "nbformat_minor": 2
}
