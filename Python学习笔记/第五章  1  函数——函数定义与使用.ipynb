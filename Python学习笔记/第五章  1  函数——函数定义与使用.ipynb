{
 "cells": [
  {
   "cell_type": "markdown",
   "metadata": {},
   "source": [
    "# 5.1 函数定义与使用"
   ]
  },
  {
   "cell_type": "markdown",
   "metadata": {},
   "source": [
    "## 5.1.1 基本语法\n",
    "- 如果函数没有return语句、有return语句但是没有执行到或者执行了不返回任何值的return语句，解释器都会认为该函数以return None结束，即返回空值。"
   ]
  },
  {
   "cell_type": "markdown",
   "metadata": {},
   "source": [
    "## 5.1.2 函数嵌套定义、可调用对象与修饰器（详见P94）"
   ]
  },
  {
   "cell_type": "markdown",
   "metadata": {},
   "source": [
    "## 5.1.3 函数递归调用"
   ]
  },
  {
   "cell_type": "markdown",
   "metadata": {},
   "source": [
    "- 阶乘"
   ]
  },
  {
   "cell_type": "code",
   "execution_count": 3,
   "metadata": {},
   "outputs": [],
   "source": [
    "def Func(n):\n",
    "    if n == 0:\n",
    "        return 1\n",
    "    else:\n",
    "        return n*Func(n-1)"
   ]
  },
  {
   "cell_type": "markdown",
   "metadata": {},
   "source": [
    "- 求最大公约数"
   ]
  },
  {
   "cell_type": "code",
   "execution_count": 9,
   "metadata": {},
   "outputs": [],
   "source": [
    "def func(m,n):\n",
    "    if m % n == 0:\n",
    "        return n\n",
    "    else:\n",
    "        return func(n,m%n)"
   ]
  },
  {
   "cell_type": "markdown",
   "metadata": {},
   "source": [
    "- 斐波那契数列"
   ]
  },
  {
   "cell_type": "code",
   "execution_count": 13,
   "metadata": {},
   "outputs": [],
   "source": [
    "def fib(n):\n",
    "    if n == 1 or n == 2:\n",
    "        return 1\n",
    "    else:\n",
    "        return fib(n-1) + fib (n-2)"
   ]
  },
  {
   "cell_type": "markdown",
   "metadata": {},
   "source": [
    "- 汉诺塔问题（简易版）"
   ]
  },
  {
   "cell_type": "code",
   "execution_count": 2,
   "metadata": {},
   "outputs": [],
   "source": [
    "def hanoi(a,b,c,n):\n",
    "    if n == 1:\n",
    "        print(a+'-->'+c)\n",
    "    else:\n",
    "        hano(a,c,b,n-1)\n",
    "        print(a+'-->'+c)\n",
    "        hano(b,a,c,n-1)\n",
    "        \n",
    "#hano('A','B','C',3)"
   ]
  },
  {
   "cell_type": "markdown",
   "metadata": {},
   "source": [
    "- 汉诺塔问题（升级版）"
   ]
  },
  {
   "cell_type": "code",
   "execution_count": 5,
   "metadata": {},
   "outputs": [],
   "source": [
    "def hanoi(a,b,c,n):\n",
    "    '''汉诺塔问题：把n个盘子从a移到c，返回总移动次数'''\n",
    "    if n == 1:\n",
    "        print('move plate 1 from '+ a + ' to ' + c)\n",
    "        return  1\n",
    "    else:\n",
    "        m = hanoi( a,c, b, n-1)\n",
    "        print('move plate '+str(n) +' from '+ a + ' to ' + c)\n",
    "        hanoi( b,a, c, n-1)\n",
    "        return 2*m+1\n",
    "        \n",
    "#x = hanoi('A', 'B', 'C', 4)\n",
    "#print('total move  {0} times'.format(x))"
   ]
  }
 ],
 "metadata": {
  "kernelspec": {
   "display_name": "Python 3",
   "language": "python",
   "name": "python3"
  },
  "language_info": {
   "codemirror_mode": {
    "name": "ipython",
    "version": 3
   },
   "file_extension": ".py",
   "mimetype": "text/x-python",
   "name": "python",
   "nbconvert_exporter": "python",
   "pygments_lexer": "ipython3",
   "version": "3.7.4"
  }
 },
 "nbformat": 4,
 "nbformat_minor": 2
}
