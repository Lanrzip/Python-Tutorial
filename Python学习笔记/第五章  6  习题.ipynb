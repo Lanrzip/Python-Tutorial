{
 "cells": [
  {
   "cell_type": "markdown",
   "metadata": {},
   "source": [
    "### 5.2 编写函数，判断一个整数是否为素数，并编写主程序调用该函数"
   ]
  },
  {
   "cell_type": "code",
   "execution_count": 12,
   "metadata": {},
   "outputs": [
    {
     "name": "stdout",
     "output_type": "stream",
     "text": [
      "791不是素数\n"
     ]
    }
   ],
   "source": [
    "def func(n):\n",
    "    for i in range(2,n):\n",
    "        if n % i == 0:\n",
    "            print('{}不是素数'.format(n))\n",
    "            break\n",
    "    else:\n",
    "        print('{0}是素数'.format(n))\n",
    "func(791)"
   ]
  },
  {
   "cell_type": "markdown",
   "metadata": {},
   "source": [
    "### 5.3 编写函数，接收一个字符串，分别统计大写字母、小写字母、数字、其他字符的个数，并以元组的形式返回结果"
   ]
  },
  {
   "cell_type": "markdown",
   "metadata": {},
   "source": [
    "- 方法一："
   ]
  },
  {
   "cell_type": "code",
   "execution_count": 18,
   "metadata": {},
   "outputs": [
    {
     "data": {
      "text/plain": [
       "(1, 2, 3, 4)"
      ]
     },
     "execution_count": 18,
     "metadata": {},
     "output_type": "execute_result"
    }
   ],
   "source": [
    "def func(n):\n",
    "    re = [0,0,0,0]\n",
    "    for i in n:\n",
    "        if i.isupper():\n",
    "            re[0] = re[0] + 1\n",
    "        elif i.islower():\n",
    "            re[1] = re[1] + 1\n",
    "        elif i.isdigit():\n",
    "            re[2] = re[2] + 1\n",
    "        else:\n",
    "            re[3] = re[3] + 1\n",
    "    return tuple(re)\n",
    "func('Abc123!@#$')"
   ]
  },
  {
   "cell_type": "markdown",
   "metadata": {},
   "source": [
    "- 方法二："
   ]
  },
  {
   "cell_type": "code",
   "execution_count": 31,
   "metadata": {},
   "outputs": [
    {
     "name": "stdout",
     "output_type": "stream",
     "text": [
      "(0, 23, 1, 11)\n"
     ]
    }
   ],
   "source": [
    "def demo(v):\n",
    "    capital = little = digit = other =0\n",
    "    for i in v:\n",
    "        if 'A'<=i<='Z':\n",
    "            capital+=1\n",
    "        elif 'a'<=i<='z':\n",
    "            little+=1\n",
    "        elif '0'<=i<='9':\n",
    "            digit+=1\n",
    "        else:\n",
    "            other+=1\n",
    "    return (capital,little,digit,other)\n",
    "\n",
    "x = 'capital = little = digit = other =0'\n",
    "print(demo(x))"
   ]
  },
  {
   "cell_type": "markdown",
   "metadata": {},
   "source": [
    "### 5.6 在Python程序中，局部变量会隐藏同名的全局变量吗？用代码验证"
   ]
  },
  {
   "cell_type": "code",
   "execution_count": 19,
   "metadata": {},
   "outputs": [
    {
     "name": "stdout",
     "output_type": "stream",
     "text": [
      "3\n",
      "5\n"
     ]
    }
   ],
   "source": [
    "#会\n",
    "def demo():\n",
    "    a = 3\n",
    "    print(a)\n",
    "a = 5\n",
    "demo()\n",
    "print(a)"
   ]
  },
  {
   "cell_type": "markdown",
   "metadata": {},
   "source": [
    "### 5.8 编写函数，可以接受任意多个整数并输出其中的最大值和所有整数之和"
   ]
  },
  {
   "cell_type": "code",
   "execution_count": 22,
   "metadata": {},
   "outputs": [
    {
     "name": "stdout",
     "output_type": "stream",
     "text": [
      "3\n",
      "6\n"
     ]
    }
   ],
   "source": [
    "def func(*p):\n",
    "    print(max(p))\n",
    "    print(sum(p))\n",
    "func(1,2,3)"
   ]
  },
  {
   "cell_type": "markdown",
   "metadata": {},
   "source": [
    "### 5.9 编写函数，模拟内置函数sum()。"
   ]
  },
  {
   "cell_type": "code",
   "execution_count": 25,
   "metadata": {},
   "outputs": [
    {
     "name": "stdout",
     "output_type": "stream",
     "text": [
      "6\n",
      "6\n"
     ]
    }
   ],
   "source": [
    "def Sumfunc(n):\n",
    "    s = 0\n",
    "    for i in n:\n",
    "        s = s + i\n",
    "    return s\n",
    "print(Sumfunc([1,2,3]))\n",
    "print(Sumfunc((1,2,3)))"
   ]
  },
  {
   "cell_type": "markdown",
   "metadata": {},
   "source": [
    "### *5.11 编写函数，模拟内置函数sorted()。"
   ]
  },
  {
   "cell_type": "code",
   "execution_count": 28,
   "metadata": {},
   "outputs": [
    {
     "name": "stdout",
     "output_type": "stream",
     "text": [
      "Help on built-in function sorted in module builtins:\n",
      "\n",
      "sorted(iterable, /, *, key=None, reverse=False)\n",
      "    Return a new list containing all items from the iterable in ascending order.\n",
      "    \n",
      "    A custom key function can be supplied to customize the sort order, and the\n",
      "    reverse flag can be set to request the result in descending order.\n",
      "\n"
     ]
    }
   ],
   "source": [
    "help(sorted)"
   ]
  },
  {
   "cell_type": "code",
   "execution_count": 29,
   "metadata": {},
   "outputs": [
    {
     "name": "stdout",
     "output_type": "stream",
     "text": [
      "Before sorted:\n",
      " [35, 68, 79, 19, 53, 19, 4, 9, 34, 67, 55, 12, 21, 90, 87, 89, 81, 51, 89, 27]\n",
      "After sorted:\n",
      " [90, 89, 89, 87, 81, 79, 68, 67, 55, 53, 51, 35, 34, 27, 21, 19, 19, 12, 9, 4]\n"
     ]
    }
   ],
   "source": [
    "from random import randint\n",
    "\n",
    "def mySorted(lst, reverse=False):\n",
    "    lst = lst[:]\n",
    "    length = len(lst)\n",
    "    for i in range(0, length):\n",
    "        flag = False\n",
    "        for j in range(0, length-i-1):\n",
    "            #比较相邻两个元素大小，并根据需要进行交换\n",
    "            #默认升序排序\n",
    "            exp = 'lst[j] > lst[j+1]'\n",
    "            #如果reverse=True则降序排序\n",
    "            if reverse:\n",
    "                exp = 'lst[j] < lst[j+1]'\n",
    "            if eval(exp):\n",
    "                lst[j], lst[j+1] = lst[j+1], lst[j]\n",
    "                #flag=True表示本次扫描发生过元素交换\n",
    "                flag = True\n",
    "        #如果一次扫描结束后，没有发生过元素交换，说明已经按序排列\n",
    "        if not flag:\n",
    "            break\n",
    "    return lst\n",
    "\n",
    "lst = [randint(1, 100) for i in range(20)]\n",
    "print('Before sorted:\\n', lst)\n",
    "print('After sorted:\\n', mySorted(lst, True))"
   ]
  }
 ],
 "metadata": {
  "kernelspec": {
   "display_name": "Python 3",
   "language": "python",
   "name": "python3"
  },
  "language_info": {
   "codemirror_mode": {
    "name": "ipython",
    "version": 3
   },
   "file_extension": ".py",
   "mimetype": "text/x-python",
   "name": "python",
   "nbconvert_exporter": "python",
   "pygments_lexer": "ipython3",
   "version": "3.7.4"
  }
 },
 "nbformat": 4,
 "nbformat_minor": 2
}
