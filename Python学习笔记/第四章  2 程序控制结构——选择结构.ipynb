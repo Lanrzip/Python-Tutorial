{
 "cells": [
  {
   "cell_type": "markdown",
   "metadata": {},
   "source": [
    "# 4.2 选择结构"
   ]
  },
  {
   "cell_type": "markdown",
   "metadata": {},
   "source": [
    "## 4.2.1 单分支选择结构"
   ]
  },
  {
   "cell_type": "markdown",
   "metadata": {},
   "source": [
    "- 表达式后面的冒号\n",
    "- 缩进"
   ]
  },
  {
   "cell_type": "code",
   "execution_count": 5,
   "metadata": {},
   "outputs": [
    {
     "name": "stdout",
     "output_type": "stream",
     "text": [
      "Input two numbers:5 4\n",
      "4 5\n"
     ]
    }
   ],
   "source": [
    "x = input('Input two numbers:')\n",
    "a,b = map(int,x.split())\n",
    "if a > b:\n",
    "    a,b = b,a\n",
    "print(a,b)"
   ]
  },
  {
   "cell_type": "markdown",
   "metadata": {},
   "source": [
    "- 关于split()函数的补充：\n",
    "    - 语法：str.split(str=\"\", num=string.count(str))[n]\n",
    "    - 参数：\n",
    "        - str：分隔符，默认为空格，但是不能为空('')。若字符串中没有分隔符，则把整个字符串作为列表的一个元素。\n",
    "        - num：分割次数。默认为 -1, 即分隔所有。\n",
    "        - n：表示选取第n个分片"
   ]
  },
  {
   "cell_type": "code",
   "execution_count": 7,
   "metadata": {},
   "outputs": [
    {
     "name": "stdout",
     "output_type": "stream",
     "text": [
      "['www', 'gziscas', 'com', 'cn']\n",
      "['www', 'gziscas', 'com.cn']\n",
      "gziscas\n"
     ]
    }
   ],
   "source": [
    "string = \"www.gziscas.com.cn\"\n",
    "print(string.split('.'))  #以'.'为分隔符\n",
    "print(string.split('.',2))  #分割两次\n",
    "print(string.split('.',2)[1])  #分割两次，并取序列为1的项"
   ]
  },
  {
   "cell_type": "markdown",
   "metadata": {},
   "source": [
    "## 4.2.2 双分支选择结构"
   ]
  },
  {
   "cell_type": "markdown",
   "metadata": {},
   "source": [
    "- 鸡兔同笼问题"
   ]
  },
  {
   "cell_type": "code",
   "execution_count": 3,
   "metadata": {},
   "outputs": [
    {
     "name": "stdout",
     "output_type": "stream",
     "text": [
      "请输入鸡兔总数和腿总数：33 45\n",
      "数据不正确，无解\n"
     ]
    }
   ],
   "source": [
    "jitu,tui = map(int,input('请输入鸡兔总数和腿总数：').split())\n",
    "tu = (tui - jitu*2)/2\n",
    "if int(tu) == tu:\n",
    "    print('鸡：{0},兔：{1}'.format(int(jitu - tu),int(tu)))\n",
    "else:\n",
    "    print('数据不正确，无解')"
   ]
  },
  {
   "cell_type": "markdown",
   "metadata": {},
   "source": [
    "## 4.2.3 多分枝选择结构"
   ]
  },
  {
   "cell_type": "markdown",
   "metadata": {},
   "source": [
    "- elif是else if的缩写"
   ]
  },
  {
   "cell_type": "code",
   "execution_count": 8,
   "metadata": {},
   "outputs": [],
   "source": [
    "def func(score):\n",
    "    if score>100 or score<0:\n",
    "        return 'wrong score.must between 0 and 100.'\n",
    "    elif score >= 90:\n",
    "        return 'A'\n",
    "    elif score >= 80:\n",
    "        return 'B'\n",
    "    elif score >= 70:\n",
    "        return 'C'\n",
    "    elif score >= 60:\n",
    "        return 'D'\n",
    "    else:\n",
    "        return '不合格'"
   ]
  },
  {
   "cell_type": "markdown",
   "metadata": {},
   "source": [
    "## 4.2.4 选择结构的嵌套"
   ]
  },
  {
   "cell_type": "markdown",
   "metadata": {},
   "source": [
    "- 严格控制不同级别代码块的缩进量"
   ]
  },
  {
   "cell_type": "code",
   "execution_count": 10,
   "metadata": {},
   "outputs": [],
   "source": [
    "def func(score):\n",
    "    degree = 'DCBAAE'\n",
    "    if score>100 or score<0:\n",
    "        return 'wrong score.must between 0 and 100.'\n",
    "    else:\n",
    "        index = (score - 60)//10\n",
    "        if index >= 0:\n",
    "            return degree[index]\n",
    "        else:\n",
    "            return degree[-1]"
   ]
  }
 ],
 "metadata": {
  "kernelspec": {
   "display_name": "Python 3",
   "language": "python",
   "name": "python3"
  }
 },
 "nbformat": 4,
 "nbformat_minor": 2
}
