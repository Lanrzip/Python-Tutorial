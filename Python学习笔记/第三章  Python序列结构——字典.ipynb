{
 "cells": [
  {
   "cell_type": "markdown",
   "metadata": {},
   "source": [
    "# 3.3 字典"
   ]
  },
  {
   "cell_type": "markdown",
   "metadata": {},
   "source": [
    "- 字典中元素的“键”可以是Python中任意不可变数据\n",
    "- 但**不能**使用列表、集合、字典或其他可变类型作为字典的“键”\n",
    "- “键”不能重复，“值”可以重复"
   ]
  },
  {
   "cell_type": "markdown",
   "metadata": {},
   "source": [
    "## 3.3.1 字典的创建与删除"
   ]
  },
  {
   "cell_type": "code",
   "execution_count": 1,
   "metadata": {},
   "outputs": [],
   "source": [
    "x = dict()  #空字典\n",
    "x = {}  "
   ]
  },
  {
   "cell_type": "code",
   "execution_count": 2,
   "metadata": {},
   "outputs": [
    {
     "name": "stdout",
     "output_type": "stream",
     "text": [
      "{'a': 1, 'b': 2, 'c': 3, 'd': 4}\n"
     ]
    }
   ],
   "source": [
    "keys = ['a','b','c','d']\n",
    "values = [1,2,3,4]\n",
    "dictionary = dict(zip(keys,values))\n",
    "print(dictionary)"
   ]
  },
  {
   "cell_type": "code",
   "execution_count": 3,
   "metadata": {},
   "outputs": [
    {
     "name": "stdout",
     "output_type": "stream",
     "text": [
      "{'name': None, 'age': None, 'sex': None}\n"
     ]
    }
   ],
   "source": [
    "aDict = dict.fromkeys(['name','age','sex'])  #以给定内容为“键”，创建“值”为空的字典\n",
    "print(aDict)"
   ]
  },
  {
   "cell_type": "markdown",
   "metadata": {},
   "source": [
    "## 3.3.2 字典元素的访问"
   ]
  },
  {
   "cell_type": "markdown",
   "metadata": {},
   "source": [
    "- 格式 ： 变量名['键']\n",
    "    - 若键不存在则抛出异常\n",
    "    - 可用if语句事先判断或使用try语句异常处理"
   ]
  },
  {
   "cell_type": "markdown",
   "metadata": {},
   "source": [
    "- get()方法访问，允许指定该键不存在时返回特定的“值”"
   ]
  },
  {
   "cell_type": "code",
   "execution_count": 5,
   "metadata": {},
   "outputs": [
    {
     "data": {
      "text/plain": [
       "'Not Exists'"
      ]
     },
     "execution_count": 5,
     "metadata": {},
     "output_type": "execute_result"
    }
   ],
   "source": [
    "aDict = {'a':1,'b':2}\n",
    "aDict.get('c','Not Exists')"
   ]
  },
  {
   "cell_type": "code",
   "execution_count": 13,
   "metadata": {},
   "outputs": [],
   "source": [
    "import string\n",
    "import random\n",
    "x = string.ascii_letters + string.digits\n",
    "z = ''.join((random.choice(x) for i in range(1000)))  #生成1000个随机字符\n",
    "d = dict()\n",
    "for ch in z:  #遍历字符串，统计频次\n",
    "    d[ch] = d.get(ch,0) + 1\n",
    "for k,v in sorted(d.items()):  #查看统计结果\n",
    "    print(k,':',v)"
   ]
  },
  {
   "cell_type": "markdown",
   "metadata": {},
   "source": [
    "- 对字典对象直接进行迭代或者遍历是默认是遍历字典的“键”\n",
    "- 可使用.items()、.keys()、.values()具体说明"
   ]
  },
  {
   "cell_type": "markdown",
   "metadata": {},
   "source": [
    "## 3.3.3 元素的添加、修改与删除"
   ]
  },
  {
   "cell_type": "markdown",
   "metadata": {},
   "source": [
    "- 当以指定“键”为下标为字典元素复制时：\n",
    "    - 若该“键”存在，则修改其“值”\n",
    "    - 若该“键”不存在，则添加一个新的“键：值”对"
   ]
  },
  {
   "cell_type": "markdown",
   "metadata": {},
   "source": [
    "- update()方法可以修改或添加"
   ]
  },
  {
   "cell_type": "code",
   "execution_count": 15,
   "metadata": {},
   "outputs": [
    {
     "name": "stdout",
     "output_type": "stream",
     "text": [
      "{'age': 19, 'score': [98, 97], 'name': 'xu', 'sex': 'male', 'a': 100}\n"
     ]
    }
   ],
   "source": [
    "aDict = {'age':18,'score':[98,97],'name':'xu','sex':'male'}\n",
    "aDict.update({'a':100,'age':19})\n",
    "print(aDict)"
   ]
  },
  {
   "cell_type": "markdown",
   "metadata": {},
   "source": [
    "- setdefult()方法 用于返回指定“键”对应的“值”，如果字典中不存在该“键”，就添加一个新元素并设置 该“键”对应的“值”，默认为None"
   ]
  },
  {
   "cell_type": "code",
   "execution_count": 17,
   "metadata": {},
   "outputs": [
    {
     "name": "stdout",
     "output_type": "stream",
     "text": [
      "{'age': 18, 'score': [98, 97], 'name': 'xu', 'sex': 'male', 'b': 200}\n"
     ]
    }
   ],
   "source": [
    "aDict = {'age':18,'score':[98,97],'name':'xu','sex':'male'}\n",
    "aDict.setdefault('b',200)\n",
    "print(aDict)"
   ]
  },
  {
   "cell_type": "markdown",
   "metadata": {},
   "source": [
    "- pop()和popitem()方法可以弹出并删除指定的元素"
   ]
  },
  {
   "cell_type": "code",
   "execution_count": 21,
   "metadata": {},
   "outputs": [
    {
     "name": "stdout",
     "output_type": "stream",
     "text": [
      "('sex', 'male')\n",
      "[98, 97]\n",
      "{'age': 18, 'name': 'xu'}\n"
     ]
    }
   ],
   "source": [
    "aDict = {'age':18,'score':[98,97],'name':'xu','sex':'male'}\n",
    "print(aDict.popitem())  #弹出一个元素\n",
    "print(aDict.pop('score'))\n",
    "print(aDict)"
   ]
  },
  {
   "cell_type": "markdown",
   "metadata": {},
   "source": [
    "## 3.3.4 标准库collections中与字典有关的类（详见P65）"
   ]
  }
 ],
 "metadata": {
  "kernelspec": {
   "display_name": "Python 3",
   "language": "python",
   "name": "python3"
  },
  "language_info": {
   "codemirror_mode": {
    "name": "ipython",
    "version": 3
   },
   "file_extension": ".py",
   "mimetype": "text/x-python",
   "name": "python",
   "nbconvert_exporter": "python",
   "pygments_lexer": "ipython3",
   "version": "3.7.3"
  }
 },
 "nbformat": 4,
 "nbformat_minor": 2
}
