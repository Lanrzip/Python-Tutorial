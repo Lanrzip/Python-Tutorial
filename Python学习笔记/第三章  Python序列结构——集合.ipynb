{
 "cells": [
  {
   "cell_type": "markdown",
   "metadata": {},
   "source": [
    "# 3.4 集合"
   ]
  },
  {
   "cell_type": "markdown",
   "metadata": {},
   "source": [
    "- 集合中元素之间不允许重复\n",
    "- 集合中只能包含数字、字符串、元组等不可变类型（可哈希）的数据，而不能包含列表、字典、集合等可变类型的数据"
   ]
  },
  {
   "cell_type": "markdown",
   "metadata": {},
   "source": [
    "## 3.4.1 集合对象的创建与删除"
   ]
  },
  {
   "cell_type": "markdown",
   "metadata": {},
   "source": [
    "- set()函数\n",
    "- 集合推导式（for—in）\n",
    "- del删除"
   ]
  },
  {
   "cell_type": "markdown",
   "metadata": {},
   "source": [
    "## 3.4.2 集合操作与运算"
   ]
  },
  {
   "cell_type": "markdown",
   "metadata": {},
   "source": [
    "- add()方法增加新元素\n",
    "- update()方法合并另外一个集合中的元素到当前集合中，并自动去重"
   ]
  },
  {
   "cell_type": "markdown",
   "metadata": {},
   "source": [
    "- pop()方法**随机删除**并返回集合中的一个元素（集合为空则异常）\n",
    "- remove()方法删除指定元素（不存则异常）\n",
    "- discard()方法删除特点元素（不存在则忽略该操作）\n",
    "- clear()方法清空集合"
   ]
  },
  {
   "cell_type": "markdown",
   "metadata": {},
   "source": [
    "- 集合运算——交并补"
   ]
  },
  {
   "cell_type": "markdown",
   "metadata": {},
   "source": [
    "![](https://img-blog.csdn.net/20171213204214081)"
   ]
  },
  {
   "cell_type": "code",
   "execution_count": 17,
   "metadata": {},
   "outputs": [
    {
     "name": "stdout",
     "output_type": "stream",
     "text": [
      "{0, 1, 2, 3, 7, 8, 9, 10, 11, 12, 13}\n",
      "{0, 1, 2, 3, 7, 8, 9, 10, 11, 12, 13}\n"
     ]
    }
   ],
   "source": [
    "a_set = set([8,9,10,11,12,13])\n",
    "b_set = {0,1,2,3,7,8}\n",
    "print(a_set | b_set)\n",
    "print(a_set.union(b_set))  #并集"
   ]
  },
  {
   "cell_type": "code",
   "execution_count": 18,
   "metadata": {},
   "outputs": [
    {
     "name": "stdout",
     "output_type": "stream",
     "text": [
      "{8}\n",
      "{8}\n"
     ]
    }
   ],
   "source": [
    "print(a_set & b_set)\n",
    "print(a_set.intersection(b_set))  #交集"
   ]
  },
  {
   "cell_type": "code",
   "execution_count": 22,
   "metadata": {},
   "outputs": [
    {
     "name": "stdout",
     "output_type": "stream",
     "text": [
      "{9, 10, 11, 12, 13}\n",
      "{9, 10, 11, 12, 13}\n"
     ]
    }
   ],
   "source": [
    "print(a_set - b_set)\n",
    "print(a_set.difference(b_set))  #差集（属于a但不属于b）"
   ]
  },
  {
   "cell_type": "code",
   "execution_count": 24,
   "metadata": {},
   "outputs": [
    {
     "name": "stdout",
     "output_type": "stream",
     "text": [
      "{0, 1, 2, 3, 7, 9, 10, 11, 12, 13}\n",
      "{0, 1, 2, 3, 7, 9, 10, 11, 12, 13}\n"
     ]
    }
   ],
   "source": [
    "print(a_set ^ b_set)\n",
    "print(a_set.symmetric_difference(b_set))  #对称差集"
   ]
  },
  {
   "cell_type": "markdown",
   "metadata": {},
   "source": [
    "- issubset()可用来测试是否为子集\n",
    "- 另外的还有:\n",
    "    - < ： 比较集合包含关系，真子集\n",
    "    - <= ： 子集"
   ]
  },
  {
   "cell_type": "markdown",
   "metadata": {},
   "source": [
    " ## 3.4.3 集合应用案例（详见P69）"
   ]
  }
 ],
 "metadata": {
  "kernelspec": {
   "display_name": "Python 3",
   "language": "python",
   "name": "python3"
  },
  "language_info": {
   "codemirror_mode": {
    "name": "ipython",
    "version": 3
   },
   "file_extension": ".py",
   "mimetype": "text/x-python",
   "name": "python",
   "nbconvert_exporter": "python",
   "pygments_lexer": "ipython3",
   "version": "3.7.3"
  }
 },
 "nbformat": 4,
 "nbformat_minor": 2
}
