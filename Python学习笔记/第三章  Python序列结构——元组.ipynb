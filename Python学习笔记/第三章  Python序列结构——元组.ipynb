{
 "cells": [
  {
   "cell_type": "markdown",
   "metadata": {},
   "source": [
    "# 3.2 元组"
   ]
  },
  {
   "cell_type": "markdown",
   "metadata": {},
   "source": [
    "## 3.2.1 元组创建与元素访问（详见p59）"
   ]
  },
  {
   "cell_type": "markdown",
   "metadata": {},
   "source": [
    "**如果元组中只有一个元素，则必须在最后增加一个逗号**"
   ]
  },
  {
   "cell_type": "markdown",
   "metadata": {},
   "source": [
    "## 3.2.2 元组与列表的异同点\n",
    "- 相同：\n",
    "    - 列表和元组都属于有序序列，都支持使用双向索引访问其中元素\n",
    "    - 支持count()、index()、len()、map()、filter()等内置函数\n",
    "    - 支持+、*、+=、in等运算符\n",
    "- 不同：\n",
    "    - 元组属于不可变序列，不可以直接修改元组中元素的值，也无法为元组增加或删除元素\n",
    "    - 不支持append()、extend()、insert()、remove()、pop()等方法\n",
    "    - 对于del操作，仅支持使用del删除整个元组\n",
    "    - 对于切片操作，只能通过切片来访问元组中的元素"
   ]
  },
  {
   "cell_type": "markdown",
   "metadata": {},
   "source": [
    "## 3.2.3 生成推导式"
   ]
  },
  {
   "cell_type": "markdown",
   "metadata": {},
   "source": [
    "- 生成器推导式的结果是一个生成器对象\n",
    "- 对于生成器对象的元素的访问，只能从前往后正向访问其中的元素，没有任何方法可以再次访问以访问过的元素，也不支持使用下标访问其中的元素"
   ]
  },
  {
   "cell_type": "code",
   "execution_count": 6,
   "metadata": {},
   "outputs": [
    {
     "name": "stdout",
     "output_type": "stream",
     "text": [
      "<generator object <genexpr> at 0x000001FDB2D1C930>\n",
      "<class 'generator'>\n",
      "(4, 9, 16, 25, 36, 49, 64, 81, 100, 121)\n",
      "[]\n"
     ]
    }
   ],
   "source": [
    "g = ((i+2)**2 for i in range(10))\n",
    "print(g)\n",
    "print(type(g))\n",
    "print(tuple(g))  #将生成器对象转换为元组\n",
    "print(list(g))  #生成器对象已遍历结束，没有元素了"
   ]
  },
  {
   "cell_type": "code",
   "execution_count": 12,
   "metadata": {},
   "outputs": [
    {
     "name": "stdout",
     "output_type": "stream",
     "text": [
      "4\n",
      "9\n",
      "16\n"
     ]
    }
   ],
   "source": [
    "g = ((i+2)**2 for i in range(10))\n",
    "print(g.__next__())  #使用生成器对象__next__()方法获取元素\n",
    "print(g.__next__())  #获取下一个元素\n",
    "print(next(g))"
   ]
  },
  {
   "cell_type": "code",
   "execution_count": 13,
   "metadata": {},
   "outputs": [
    {
     "name": "stdout",
     "output_type": "stream",
     "text": [
      "True\n",
      "True\n",
      "False\n"
     ]
    }
   ],
   "source": [
    "x = filter(None,range(20))  #filter对象也具有类似的特点\n",
    "print(1 in x)\n",
    "print(5 in x)\n",
    "print(2 in x)  #返回结果为False，因为已经访问到\"5\"了，而\"2\"在\"5\"之前，向后遍历没有\"2\""
   ]
  },
  {
   "cell_type": "code",
   "execution_count": 15,
   "metadata": {},
   "outputs": [
    {
     "name": "stdout",
     "output_type": "stream",
     "text": [
      "True\n",
      "False\n"
     ]
    }
   ],
   "source": [
    "x = map(str,range(20))  #map对象也具有类似的特点\n",
    "print('0' in x)\n",
    "print('0' in x)"
   ]
  }
 ],
 "metadata": {
  "kernelspec": {
   "display_name": "Python 3",
   "language": "python",
   "name": "python3"
  },
  "language_info": {
   "codemirror_mode": {
    "name": "ipython",
    "version": 3
   },
   "file_extension": ".py",
   "mimetype": "text/x-python",
   "name": "python",
   "nbconvert_exporter": "python",
   "pygments_lexer": "ipython3",
   "version": "3.7.3"
  }
 },
 "nbformat": 4,
 "nbformat_minor": 2
}
