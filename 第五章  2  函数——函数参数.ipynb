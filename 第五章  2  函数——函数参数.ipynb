{
 "cells": [
  {
   "cell_type": "markdown",
   "metadata": {},
   "source": [
    "# 5.2 函数参数"
   ]
  },
  {
   "cell_type": "markdown",
   "metadata": {},
   "source": [
    "- 一般来说，在函数内部直接修改形参的值不会影响实参，而是创建一个新变量。"
   ]
  },
  {
   "cell_type": "code",
   "execution_count": 6,
   "metadata": {},
   "outputs": [
    {
     "name": "stdout",
     "output_type": "stream",
     "text": [
      "main: x= 5.0 1977940378800\n",
      "func: a= 5.0 1977940378800\n",
      "modi: a= 10 140707831649376\n",
      "main: x= 5.0 1977940378800\n"
     ]
    }
   ],
   "source": [
    "def func(a):\n",
    "    print('func: a=',a,id(a))\n",
    "    a=10  #在函数内部修改形参的值\n",
    "    print('modi: a=',a,id(a))\n",
    "    \n",
    "x=5.0\n",
    "print('main: x=',x,id(x))\n",
    "func(x)\n",
    "print('main: x=',x,id(x))  #x的值不随形参的值的改变而改变"
   ]
  },
  {
   "cell_type": "markdown",
   "metadata": {},
   "source": [
    "- 在有些情况下，可以通过特殊的方式在函数内部修改实参的值。"
   ]
  },
  {
   "cell_type": "code",
   "execution_count": 9,
   "metadata": {},
   "outputs": [
    {
     "name": "stdout",
     "output_type": "stream",
     "text": [
      "[3]\n"
     ]
    }
   ],
   "source": [
    "def modify(v):  #修改列表元素值\n",
    "    v[0] = v[0] + 1\n",
    "a = [2]\n",
    "modify(a)\n",
    "print(a)"
   ]
  },
  {
   "cell_type": "code",
   "execution_count": 10,
   "metadata": {},
   "outputs": [
    {
     "name": "stdout",
     "output_type": "stream",
     "text": [
      "[2, 3]\n"
     ]
    }
   ],
   "source": [
    "def modify(v,item):  #为列表增加元素\n",
    "    v.append(item)\n",
    "a = [2]\n",
    "modify(a,3)\n",
    "print(a)"
   ]
  },
  {
   "cell_type": "code",
   "execution_count": 11,
   "metadata": {},
   "outputs": [
    {
     "name": "stdout",
     "output_type": "stream",
     "text": [
      "{'age': 18, 'name': 'Xu', 'sex': 'Male'}\n"
     ]
    }
   ],
   "source": [
    "def modify(d):  #修改字典元素值或为字典增加元素\n",
    "    d['age'] = 18\n",
    "a = {'age': 19,'name': 'Xu','sex': 'Male'}\n",
    "modify(a)\n",
    "print(a)"
   ]
  },
  {
   "cell_type": "markdown",
   "metadata": {},
   "source": [
    "## 5.2.1 位置参数"
   ]
  },
  {
   "cell_type": "markdown",
   "metadata": {},
   "source": [
    "- 调用函数时实参和形参的顺序必须严格一致，且实参和形参的数量必须相同"
   ]
  },
  {
   "cell_type": "code",
   "execution_count": 12,
   "metadata": {},
   "outputs": [
    {
     "name": "stdout",
     "output_type": "stream",
     "text": [
      "3 4 5\n",
      "3 5 4\n"
     ]
    },
    {
     "ename": "TypeError",
     "evalue": "demo() takes 3 positional arguments but 4 were given",
     "output_type": "error",
     "traceback": [
      "\u001b[1;31m---------------------------------------------------------------------------\u001b[0m",
      "\u001b[1;31mTypeError\u001b[0m                                 Traceback (most recent call last)",
      "\u001b[1;32m<ipython-input-12-287f594558cd>\u001b[0m in \u001b[0;36m<module>\u001b[1;34m\u001b[0m\n\u001b[0;32m      3\u001b[0m \u001b[0mdemo\u001b[0m\u001b[1;33m(\u001b[0m\u001b[1;36m3\u001b[0m\u001b[1;33m,\u001b[0m \u001b[1;36m4\u001b[0m\u001b[1;33m,\u001b[0m \u001b[1;36m5\u001b[0m\u001b[1;33m)\u001b[0m \u001b[1;31m#按位置传递参数\u001b[0m\u001b[1;33m\u001b[0m\u001b[1;33m\u001b[0m\u001b[0m\n\u001b[0;32m      4\u001b[0m \u001b[0mdemo\u001b[0m\u001b[1;33m(\u001b[0m\u001b[1;36m3\u001b[0m\u001b[1;33m,\u001b[0m \u001b[1;36m5\u001b[0m\u001b[1;33m,\u001b[0m \u001b[1;36m4\u001b[0m\u001b[1;33m)\u001b[0m\u001b[1;33m\u001b[0m\u001b[1;33m\u001b[0m\u001b[0m\n\u001b[1;32m----> 5\u001b[1;33m \u001b[0mdemo\u001b[0m\u001b[1;33m(\u001b[0m\u001b[1;36m1\u001b[0m\u001b[1;33m,\u001b[0m \u001b[1;36m2\u001b[0m\u001b[1;33m,\u001b[0m \u001b[1;36m3\u001b[0m\u001b[1;33m,\u001b[0m \u001b[1;36m4\u001b[0m\u001b[1;33m)\u001b[0m \u001b[1;31m#实参与形参数量必须相同\u001b[0m\u001b[1;33m\u001b[0m\u001b[1;33m\u001b[0m\u001b[0m\n\u001b[0m",
      "\u001b[1;31mTypeError\u001b[0m: demo() takes 3 positional arguments but 4 were given"
     ]
    }
   ],
   "source": [
    "def demo(a, b, c):\n",
    "    print(a, b, c)\n",
    "demo(3, 4, 5) #按位置传递参数\n",
    "demo(3, 5, 4)\n",
    "demo(1, 2, 3, 4) #实参与形参数量必须相同"
   ]
  },
  {
   "cell_type": "markdown",
   "metadata": {},
   "source": [
    "## 5.2.2 默认值参数"
   ]
  },
  {
   "cell_type": "markdown",
   "metadata": {},
   "source": [
    "- 任何一个默认值参数右边都不能再出现没有默认值的普通位置参数"
   ]
  },
  {
   "cell_type": "code",
   "execution_count": 20,
   "metadata": {},
   "outputs": [
    {
     "name": "stdout",
     "output_type": "stream",
     "text": [
      "hello\n",
      "hellohellohello\n"
     ]
    }
   ],
   "source": [
    "def say( message, times = 1):\n",
    "    print(message * times)\n",
    "say('hello')\n",
    "say('hello',3)"
   ]
  },
  {
   "cell_type": "markdown",
   "metadata": {},
   "source": [
    "- 多次调用函数并且不为默认值参数传递值时，默认值参数只在定义时进行一次解释和初始化"
   ]
  },
  {
   "cell_type": "code",
   "execution_count": 21,
   "metadata": {},
   "outputs": [
    {
     "name": "stdout",
     "output_type": "stream",
     "text": [
      "[1, 2, 3, 4, '5']\n",
      "['a', 'b', 'aaa']\n",
      "['a']\n",
      "['a', 'b']\n",
      "['b']\n"
     ]
    }
   ],
   "source": [
    "def demo(newitem,old_list = []):\n",
    "    old_list.append(newitem)\n",
    "    return old_list\n",
    "print(demo('5',[1,2,3,4])) #right\n",
    "print(demo('aaa',['a','b'])) #right\n",
    "print(demo('a')) #right\n",
    "print(demo('b')) #没有进行初始化，old_list的默认值变为'a'\n",
    "print(demo('b',[]))"
   ]
  },
  {
   "cell_type": "markdown",
   "metadata": {},
   "source": [
    "    - 解决方法"
   ]
  },
  {
   "cell_type": "code",
   "execution_count": 26,
   "metadata": {},
   "outputs": [
    {
     "name": "stdout",
     "output_type": "stream",
     "text": [
      "['a']\n",
      "['b']\n"
     ]
    }
   ],
   "source": [
    "def demo(newitem,old_list = []):\n",
    "    if old_list == []:\n",
    "        old_list = []\n",
    "    old_list.append(newitem)\n",
    "    return old_list\n",
    "print(demo('a'))\n",
    "print(demo('b'))"
   ]
  },
  {
   "cell_type": "markdown",
   "metadata": {},
   "source": [
    "- 可以使用“函数名.defaults”查看所有默认参数的当前值"
   ]
  },
  {
   "cell_type": "code",
   "execution_count": 27,
   "metadata": {},
   "outputs": [
    {
     "data": {
      "text/plain": [
       "([],)"
      ]
     },
     "execution_count": 27,
     "metadata": {},
     "output_type": "execute_result"
    }
   ],
   "source": [
    "demo.__defaults__"
   ]
  },
  {
   "cell_type": "markdown",
   "metadata": {},
   "source": [
    "- 函数的默认值参数实在函数定义时确定值的"
   ]
  },
  {
   "cell_type": "code",
   "execution_count": 1,
   "metadata": {},
   "outputs": [
    {
     "name": "stdout",
     "output_type": "stream",
     "text": [
      "3\n",
      "3\n"
     ]
    },
    {
     "data": {
      "text/plain": [
       "(3,)"
      ]
     },
     "execution_count": 1,
     "metadata": {},
     "output_type": "execute_result"
    }
   ],
   "source": [
    "i = 3\n",
    "def f(n=i): #参数n的值仅取决于i的当前值\n",
    "    print(n)\n",
    "f()\n",
    "i = 5 #函数定义后修改i的值不影响参数n的默认值\n",
    "f()\n",
    "f.__defaults__ #查看函数默认值参数的当前值"
   ]
  },
  {
   "cell_type": "markdown",
   "metadata": {},
   "source": [
    "## 5.2.3 关键参数"
   ]
  },
  {
   "cell_type": "markdown",
   "metadata": {},
   "source": [
    "- 实参和形参顺序可以不一致"
   ]
  },
  {
   "cell_type": "code",
   "execution_count": 2,
   "metadata": {},
   "outputs": [
    {
     "name": "stdout",
     "output_type": "stream",
     "text": [
      "3 7 5\n",
      "9 0 8\n"
     ]
    }
   ],
   "source": [
    "def demo(a,b,c=5):\n",
    "    print(a,b,c)\n",
    "demo(3,7)\n",
    "demo(c=8,a=9,b=0)"
   ]
  },
  {
   "cell_type": "markdown",
   "metadata": {},
   "source": [
    "## 5.2.4 可变长度参数"
   ]
  },
  {
   "cell_type": "markdown",
   "metadata": {},
   "source": [
    "- 两种形式：\n",
    "    - *parameter：用来接受多个实参并将其放在一个元组中\n",
    "    - **parameter：接受关键参数并存放到字典中"
   ]
  },
  {
   "cell_type": "code",
   "execution_count": 3,
   "metadata": {},
   "outputs": [
    {
     "name": "stdout",
     "output_type": "stream",
     "text": [
      "(1, 2, 3)\n",
      "(1, 2, 3, 4, 5, 6, 7)\n"
     ]
    }
   ],
   "source": [
    "def demo(*p):\n",
    "    print(p)\n",
    "demo(1,2,3)\n",
    "demo(1,2,3,4,5,6,7)"
   ]
  },
  {
   "cell_type": "code",
   "execution_count": 4,
   "metadata": {},
   "outputs": [
    {
     "name": "stdout",
     "output_type": "stream",
     "text": [
      "('x', 1)\n",
      "('y', 2)\n",
      "('z', 3)\n"
     ]
    }
   ],
   "source": [
    "def demo(**p):\n",
    "    for item in p.items():\n",
    "        print(item)\n",
    "demo(x=1,y=2,z=3)"
   ]
  },
  {
   "cell_type": "markdown",
   "metadata": {},
   "source": [
    "- 几种不同类型的参数可以混合使用，但是不建议这样做"
   ]
  },
  {
   "cell_type": "code",
   "execution_count": 5,
   "metadata": {},
   "outputs": [
    {
     "name": "stdout",
     "output_type": "stream",
     "text": [
      "1 2 3\n",
      "(4, 5, 6, 7, 8, 9)\n",
      "{'xx': '1', 'yy': '2', 'zz': 3}\n",
      "1 2 3\n",
      "(4, 5, 6, 7)\n",
      "{'xx': '1', 'yy': '2', 'zz': 3}\n"
     ]
    }
   ],
   "source": [
    "def func_4(a,b,c=4,*aa,**bb):\n",
    "    print(a,b,c)\n",
    "    print(aa)\n",
    "    print(bb)\n",
    "func_4(1,2,3,4,5,6,7,8,9,xx='1',yy='2',zz=3)\n",
    "func_4(1,2,3,4,5,6,7,xx='1',yy='2',zz=3)"
   ]
  },
  {
   "cell_type": "markdown",
   "metadata": {},
   "source": [
    "## 5.2.5 传递参数时的序列解包"
   ]
  },
  {
   "cell_type": "markdown",
   "metadata": {},
   "source": [
    "- 传递参数时，可以通过在实参序列前加一个星号将其解包，然后传递给多个单变量形参。"
   ]
  },
  {
   "cell_type": "code",
   "execution_count": 11,
   "metadata": {
    "scrolled": true
   },
   "outputs": [
    {
     "name": "stdout",
     "output_type": "stream",
     "text": [
      "6\n",
      "6\n",
      "6\n",
      "abc\n",
      "6\n"
     ]
    }
   ],
   "source": [
    "def demo(a, b, c):\n",
    "    print(a+b+c)\n",
    "\n",
    "seq = [1, 2, 3]\n",
    "demo(*seq)  #解包后按位置传递\n",
    "tup = (1, 2, 3)\n",
    "demo(*tup)\n",
    "dic = {1:'a', 2:'b', 3:'c'}\n",
    "demo(*dic)\n",
    "demo(*dic.values())\n",
    "Set = {1, 2, 3}\n",
    "demo(*Set)"
   ]
  },
  {
   "cell_type": "markdown",
   "metadata": {},
   "source": [
    "- 调用函数时如果对实参使用一个星号\\*进行序列解包，那么这些解包后的实参将会被当作普通位置参数对待，并且会在关键参数和使用两个型号**进行序列解包的参数之前进行处理。"
   ]
  },
  {
   "cell_type": "code",
   "execution_count": 13,
   "metadata": {},
   "outputs": [
    {
     "ename": "TypeError",
     "evalue": "demo() got multiple values for argument 'a'",
     "output_type": "error",
     "traceback": [
      "\u001b[1;31m---------------------------------------------------------------------------\u001b[0m",
      "\u001b[1;31mTypeError\u001b[0m                                 Traceback (most recent call last)",
      "\u001b[1;32m<ipython-input-13-620ef3ddff35>\u001b[0m in \u001b[0;36m<module>\u001b[1;34m\u001b[0m\n\u001b[0;32m      1\u001b[0m \u001b[1;32mdef\u001b[0m \u001b[0mdemo\u001b[0m\u001b[1;33m(\u001b[0m\u001b[0ma\u001b[0m\u001b[1;33m,\u001b[0m\u001b[0mb\u001b[0m\u001b[1;33m,\u001b[0m\u001b[0mc\u001b[0m\u001b[1;33m)\u001b[0m\u001b[1;33m:\u001b[0m\u001b[1;33m\u001b[0m\u001b[1;33m\u001b[0m\u001b[0m\n\u001b[0;32m      2\u001b[0m     \u001b[0mprint\u001b[0m\u001b[1;33m(\u001b[0m\u001b[0ma\u001b[0m\u001b[1;33m,\u001b[0m\u001b[0mb\u001b[0m\u001b[1;33m,\u001b[0m\u001b[0mc\u001b[0m\u001b[1;33m)\u001b[0m\u001b[1;33m\u001b[0m\u001b[1;33m\u001b[0m\u001b[0m\n\u001b[1;32m----> 3\u001b[1;33m \u001b[0mdemo\u001b[0m\u001b[1;33m(\u001b[0m\u001b[0ma\u001b[0m\u001b[1;33m=\u001b[0m\u001b[1;36m1\u001b[0m\u001b[1;33m,\u001b[0m\u001b[1;33m*\u001b[0m\u001b[1;33m(\u001b[0m\u001b[1;36m2\u001b[0m\u001b[1;33m,\u001b[0m\u001b[1;36m3\u001b[0m\u001b[1;33m)\u001b[0m\u001b[1;33m)\u001b[0m\u001b[1;33m\u001b[0m\u001b[1;33m\u001b[0m\u001b[0m\n\u001b[0m",
      "\u001b[1;31mTypeError\u001b[0m: demo() got multiple values for argument 'a'"
     ]
    }
   ],
   "source": [
    "def demo(a,b,c):\n",
    "    print(a,b,c)\n",
    "demo(a=1,*(2,3))"
   ]
  },
  {
   "cell_type": "code",
   "execution_count": 15,
   "metadata": {},
   "outputs": [
    {
     "name": "stdout",
     "output_type": "stream",
     "text": [
      "2 3 1\n"
     ]
    }
   ],
   "source": [
    "demo(c=1,*(2,3))  #有限处理a,b"
   ]
  },
  {
   "cell_type": "code",
   "execution_count": 16,
   "metadata": {},
   "outputs": [
    {
     "ename": "SyntaxError",
     "evalue": "iterable argument unpacking follows keyword argument unpacking (<ipython-input-16-ca9348af944f>, line 1)",
     "output_type": "error",
     "traceback": [
      "\u001b[1;36m  File \u001b[1;32m\"<ipython-input-16-ca9348af944f>\"\u001b[1;36m, line \u001b[1;32m1\u001b[0m\n\u001b[1;33m    demo(**{'a':1, 'b':2}, *(3,))  #序列解包不能在关键参数解包之后\u001b[0m\n\u001b[1;37m                          ^\u001b[0m\n\u001b[1;31mSyntaxError\u001b[0m\u001b[1;31m:\u001b[0m iterable argument unpacking follows keyword argument unpacking\n"
     ]
    }
   ],
   "source": [
    "demo(**{'a':1, 'b':2}, *(3,))  #序列解包不能在关键参数解包之后"
   ]
  },
  {
   "cell_type": "code",
   "execution_count": 18,
   "metadata": {},
   "outputs": [
    {
     "ename": "TypeError",
     "evalue": "demo() got multiple values for argument 'a'",
     "output_type": "error",
     "traceback": [
      "\u001b[1;31m---------------------------------------------------------------------------\u001b[0m",
      "\u001b[1;31mTypeError\u001b[0m                                 Traceback (most recent call last)",
      "\u001b[1;32m<ipython-input-18-edb3b6269a99>\u001b[0m in \u001b[0;36m<module>\u001b[1;34m\u001b[0m\n\u001b[1;32m----> 1\u001b[1;33m \u001b[0mdemo\u001b[0m\u001b[1;33m(\u001b[0m\u001b[1;33m*\u001b[0m\u001b[1;33m(\u001b[0m\u001b[1;36m3\u001b[0m\u001b[1;33m,\u001b[0m\u001b[1;33m)\u001b[0m\u001b[1;33m,\u001b[0m \u001b[1;33m**\u001b[0m\u001b[1;33m{\u001b[0m\u001b[1;34m'a'\u001b[0m\u001b[1;33m:\u001b[0m\u001b[1;36m1\u001b[0m\u001b[1;33m,\u001b[0m \u001b[1;34m'b'\u001b[0m\u001b[1;33m:\u001b[0m\u001b[1;36m2\u001b[0m\u001b[1;33m}\u001b[0m\u001b[1;33m)\u001b[0m  \u001b[1;31m#a=3已被占用\u001b[0m\u001b[1;33m\u001b[0m\u001b[1;33m\u001b[0m\u001b[0m\n\u001b[0m",
      "\u001b[1;31mTypeError\u001b[0m: demo() got multiple values for argument 'a'"
     ]
    }
   ],
   "source": [
    "demo(*(3,), **{'a':1, 'b':2})  #a=3已被占用"
   ]
  },
  {
   "cell_type": "code",
   "execution_count": 20,
   "metadata": {},
   "outputs": [
    {
     "name": "stdout",
     "output_type": "stream",
     "text": [
      "3 2 1\n"
     ]
    }
   ],
   "source": [
    "demo(*(3,), **{'c':1, 'b':2})"
   ]
  }
 ],
 "metadata": {
  "kernelspec": {
   "display_name": "Python 3",
   "language": "python",
   "name": "python3"
  },
  "language_info": {
   "codemirror_mode": {
    "name": "ipython",
    "version": 3
   },
   "file_extension": ".py",
   "mimetype": "text/x-python",
   "name": "python",
   "nbconvert_exporter": "python",
   "pygments_lexer": "ipython3",
   "version": "3.7.4"
  }
 },
 "nbformat": 4,
 "nbformat_minor": 2
}
