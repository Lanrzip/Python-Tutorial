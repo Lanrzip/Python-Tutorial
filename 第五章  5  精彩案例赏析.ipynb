{
 "cells": [
  {
   "cell_type": "markdown",
   "metadata": {},
   "source": [
    "### **示例 5-1**  编写函数计算圆的面积"
   ]
  },
  {
   "cell_type": "code",
   "execution_count": 1,
   "metadata": {},
   "outputs": [
    {
     "data": {
      "text/plain": [
       "314.1592653589793"
      ]
     },
     "execution_count": 1,
     "metadata": {},
     "output_type": "execute_result"
    }
   ],
   "source": [
    "from math import pi as PI\n",
    "def CircleArea(r):\n",
    "    if isinstance(r, (int,float)): #确保接收的参数为数值\n",
    "        return PI*r*r\n",
    "    else:\n",
    "        print('You must give me an integer or float as radius.')\n",
    "\n",
    "CircleArea(10)"
   ]
  },
  {
   "cell_type": "markdown",
   "metadata": {},
   "source": [
    "### **示例 5-2** 编写函数，接收任意多个实数，返回一个元组，其中第一个元素为所有参数的平均值，其他元素为所有参数中大于平均值的实数。"
   ]
  },
  {
   "cell_type": "code",
   "execution_count": 3,
   "metadata": {},
   "outputs": [
    {
     "data": {
      "text/plain": [
       "(3.0, 4, 5)"
      ]
     },
     "execution_count": 3,
     "metadata": {},
     "output_type": "execute_result"
    }
   ],
   "source": [
    "def func(*p):\n",
    "    a = sum(p)/len(p)\n",
    "    l = [a]\n",
    "    for i in p:\n",
    "        if i > a:\n",
    "            l.append(i)\n",
    "    return tuple(l)\n",
    "func(1,2,3,4,5)"
   ]
  },
  {
   "cell_type": "markdown",
   "metadata": {},
   "source": [
    "### **示例 5-3** 编写函数demo(lst)，接收一个包含若干整数的列表参数lst，返回一个列表，其中第一个元素为列表lst中的最小值，其余元素为最小值在列表lst中的下标。"
   ]
  },
  {
   "cell_type": "markdown",
   "metadata": {},
   "source": [
    "- 方法一："
   ]
  },
  {
   "cell_type": "code",
   "execution_count": 17,
   "metadata": {},
   "outputs": [
    {
     "name": "stdout",
     "output_type": "stream",
     "text": [
      "1 tttttt\n",
      "0\n",
      "2 tttttt\n",
      "3 tttttt\n",
      "3 tttttt\n",
      "3 tttttt\n",
      "1 tttttt\n",
      "0\n",
      "1 tttttt\n",
      "0\n",
      "1 tttttt\n",
      "0\n"
     ]
    },
    {
     "data": {
      "text/plain": [
       "[1]"
      ]
     },
     "execution_count": 17,
     "metadata": {},
     "output_type": "execute_result"
    }
   ],
   "source": [
    "def demo(lst):\n",
    "    m = min(lst)\n",
    "    r = [m]\n",
    "    for i in lst:\n",
    "        print(i,'tttttt')\n",
    "        if i == m:\n",
    "            #r.append(lst.index(i))\n",
    "            print(lst.index(i))  #??????????????????\n",
    "    return r\n",
    "demo([1,2,3,3,3,1,1,1])"
   ]
  },
  {
   "cell_type": "markdown",
   "metadata": {},
   "source": [
    "- 方法二："
   ]
  },
  {
   "cell_type": "code",
   "execution_count": 19,
   "metadata": {},
   "outputs": [
    {
     "name": "stdout",
     "output_type": "stream",
     "text": [
      "[2, 19, 5, 10, 7, 18, 9, 8, 11, 19, 11, 12, 3, 19, 2, 2, 20, 14, 8, 10]\n",
      "[2, 0, 14, 15]\n"
     ]
    }
   ],
   "source": [
    "import random\n",
    "def demo(lst):\n",
    "    m = min(lst)\n",
    "    result = [m]\n",
    "    for index, value in enumerate(lst):\n",
    "        if value == m:\n",
    "            result.append(index)\n",
    "    return result\n",
    "x = [random.randint(1,20) for i in range(20)]\n",
    "print(x)\n",
    "print(demo(x))"
   ]
  },
  {
   "cell_type": "markdown",
   "metadata": {},
   "source": [
    "### **示例 5-4** 编写函数，接收字符串参数，返回一个元组，其中第一个元素为大写字母个数，第二个元素为小写字母个数。"
   ]
  },
  {
   "cell_type": "markdown",
   "metadata": {},
   "source": [
    "- 方法一："
   ]
  },
  {
   "cell_type": "code",
   "execution_count": 23,
   "metadata": {},
   "outputs": [
    {
     "data": {
      "text/plain": [
       "(5, 2)"
      ]
     },
     "execution_count": 23,
     "metadata": {},
     "output_type": "execute_result"
    }
   ],
   "source": [
    "def demo(s):\n",
    "    l = 0\n",
    "    b = 0\n",
    "    for ch in s:\n",
    "        if ch.islower():\n",
    "            l += 1\n",
    "        elif ch.isupper():\n",
    "            b += 1\n",
    "    return (l,b)\n",
    "demo('aaBBccd')"
   ]
  },
  {
   "cell_type": "markdown",
   "metadata": {},
   "source": [
    "- 方法二："
   ]
  },
  {
   "cell_type": "code",
   "execution_count": 25,
   "metadata": {},
   "outputs": [
    {
     "name": "stdout",
     "output_type": "stream",
     "text": [
      "(2, 5)\n"
     ]
    }
   ],
   "source": [
    "def demo(s):\n",
    "    result = [0,0]\n",
    "    for ch in s:\n",
    "        if 'a'<=ch<='z':\n",
    "            result[1] += 1\n",
    "        elif 'A'<=ch<='Z':\n",
    "            result[0] += 1\n",
    "    return tuple(result)\n",
    "print(demo('aaBBccd'))"
   ]
  },
  {
   "cell_type": "markdown",
   "metadata": {},
   "source": [
    "### **示例 5-5** 编写函数,打印n行如下图形。"
   ]
  },
  {
   "cell_type": "markdown",
   "metadata": {},
   "source": [
    "- 方法一："
   ]
  },
  {
   "cell_type": "code",
   "execution_count": null,
   "metadata": {},
   "outputs": [],
   "source": [
    "def demo(n):\n",
    "    for i in range(n):\n",
    "        for j in range(n,i,-1):\n",
    "            print('T', end='')\n",
    "        for j in range(i+1):\n",
    "            print('X', end='')\n",
    "        print('')\n",
    "\n",
    "demo(10)"
   ]
  },
  {
   "cell_type": "markdown",
   "metadata": {},
   "source": [
    "- 方法二："
   ]
  },
  {
   "cell_type": "code",
   "execution_count": 10,
   "metadata": {},
   "outputs": [
    {
     "name": "stdout",
     "output_type": "stream",
     "text": [
      "TTTTTTTTTTX\n",
      "TTTTTTTTTXX\n",
      "TTTTTTTTXXX\n",
      "TTTTTTTXXXX\n",
      "TTTTTTXXXXX\n",
      "TTTTTXXXXXX\n",
      "TTTTXXXXXXX\n",
      "TTTXXXXXXXX\n",
      "TTXXXXXXXXX\n",
      "TXXXXXXXXXX\n"
     ]
    }
   ],
   "source": [
    "def demo(n):\n",
    "    for i in range(n):\n",
    "        print('T'*(n-i)+'X'*(i+1))\n",
    "demo(10)"
   ]
  },
  {
   "cell_type": "markdown",
   "metadata": {},
   "source": [
    "### **示例 5-6** 编写函数，接收整数参数t，返回斐波那契数列中大于t的第一个数。"
   ]
  },
  {
   "cell_type": "code",
   "execution_count": 12,
   "metadata": {},
   "outputs": [
    {
     "name": "stdout",
     "output_type": "stream",
     "text": [
      "55\n"
     ]
    }
   ],
   "source": [
    "def demo(t):\n",
    "    a,b = 1,1\n",
    "    while b < t:\n",
    "        a,b = b,b+a\n",
    "    else:\n",
    "        print(b)\n",
    "demo(50)"
   ]
  },
  {
   "cell_type": "markdown",
   "metadata": {},
   "source": [
    "### **示例 5-7** 编写函数，接收两个正整数作为参数，返回一个元组，其中第一个元素为最大公约数，第二个元素为最小公倍数。"
   ]
  },
  {
   "cell_type": "markdown",
   "metadata": {},
   "source": [
    "- 方法一："
   ]
  },
  {
   "cell_type": "code",
   "execution_count": 19,
   "metadata": {},
   "outputs": [
    {
     "data": {
      "text/plain": [
       "(1, 30)"
      ]
     },
     "execution_count": 19,
     "metadata": {},
     "output_type": "execute_result"
    }
   ],
   "source": [
    "def demo(m,n):\n",
    "    p = m*n\n",
    "    while m%n != 0:\n",
    "        m,n = n,m%n\n",
    "    return(n,p//n)\n",
    "demo(3,10)"
   ]
  },
  {
   "cell_type": "markdown",
   "metadata": {},
   "source": [
    "- 方法二：Python标准库fractions、math中都提供了gcd()函数来计算最大公约数。"
   ]
  },
  {
   "cell_type": "code",
   "execution_count": 21,
   "metadata": {},
   "outputs": [
    {
     "data": {
      "text/plain": [
       "(1, 30)"
      ]
     },
     "execution_count": 21,
     "metadata": {},
     "output_type": "execute_result"
    }
   ],
   "source": [
    "import math\n",
    "def demo(m,n):\n",
    "    r = math.gcd(m,n)\n",
    "    return (r,(m*n)//r)\n",
    "demo(3,10)"
   ]
  }
 ],
 "metadata": {
  "kernelspec": {
   "display_name": "Python 3",
   "language": "python",
   "name": "python3"
  },
  "language_info": {
   "codemirror_mode": {
    "name": "ipython",
    "version": 3
   },
   "file_extension": ".py",
   "mimetype": "text/x-python",
   "name": "python",
   "nbconvert_exporter": "python",
   "pygments_lexer": "ipython3",
   "version": "3.7.4"
  }
 },
 "nbformat": 4,
 "nbformat_minor": 2
}
